{
 "cells": [
  {
   "cell_type": "code",
   "execution_count": 352,
   "metadata": {},
   "outputs": [],
   "source": [
    "import cv2\n",
    "import imutils\n",
    "from PIL import Image\n",
    "from matplotlib import pyplot as plt\n",
    "import glob"
   ]
  },
  {
   "cell_type": "code",
   "execution_count": 351,
   "metadata": {},
   "outputs": [],
   "source": [
    "NUM_TEAMS = 4\n",
    "class_indices_list =['01_purple', '02_green', '03_white', '04_colored']\n",
    "videos_folder = r'd:\\ML\\data\\f\\video\\\\20200212'\n",
    "images_folder  = r'd:\\ML\\data\\f\\images\\\\'"
   ]
  },
  {
   "cell_type": "code",
   "execution_count": 4,
   "metadata": {},
   "outputs": [
    {
     "data": {
      "text/plain": [
       "['d:\\\\ML\\\\data\\\\f\\\\video\\\\20200212\\\\CAM00003.mp4']"
      ]
     },
     "execution_count": 4,
     "metadata": {},
     "output_type": "execute_result"
    }
   ],
   "source": [
    "\n",
    "\n",
    "video_files = [f for f in glob.glob(videos_folder + \"**/*.mp4\", recursive=True)]\n",
    "video_files"
   ]
  },
  {
   "cell_type": "code",
   "execution_count": 7,
   "metadata": {},
   "outputs": [],
   "source": [
    "import cv2\n",
    "import uuid\n",
    "def getFramesFromVideo(video_filename):\n",
    "    vidcap = cv2.VideoCapture(video_filename)\n",
    "    def getFrame(sec):\n",
    "        vidcap.set(cv2.CAP_PROP_POS_MSEC,sec*1000)\n",
    "        hasFrames,image = vidcap.read()\n",
    "        if hasFrames:\n",
    "            image = imutils.rotate(image, 180)\n",
    "            cv2.imwrite(images_folder+ date_str+\"_\"+str(count)+uuid.uuid4().hex+\".jpg\", image)     # save frame as JPG file\n",
    "        return hasFrames\n",
    "    sec = 0\n",
    "    frameCaptureRate = 60*3.4 #//it will capture image in each frameCaptureRate seconds\n",
    "    count=0\n",
    "    success = True\n",
    "    while success:        \n",
    "        sec = sec + frameCaptureRate\n",
    "        sec = round(sec, 2)\n",
    "        success = getFrame(sec)\n",
    "        if success:\n",
    "            count += 1\n",
    "    vidcap.release()\n",
    "    print(count,' images extracted from ', video_filename)"
   ]
  },
  {
   "cell_type": "code",
   "execution_count": null,
   "metadata": {},
   "outputs": [],
   "source": []
  },
  {
   "cell_type": "code",
   "execution_count": 191,
   "metadata": {},
   "outputs": [],
   "source": [
    "class Settings:\n",
    "    def __init__(self, model_path, threshold, videos, out_images_folder, frameCaptureRateSec):\n",
    "        self.model_path = model_path\n",
    "        self.threshold = threshold\n",
    "        self.videos = videos\n",
    "        self.out_images_folder = out_images_folder\n",
    "        self.frameCaptureRateSec = frameCaptureRateSec\n",
    "settings = Settings(model_path=r'D:\\ML\\models\\faster_rcnn_inception_v2_coco_2018_01_28/frozen_inference_graph.pb',\n",
    "                   threshold=0.6,\n",
    "                   videos=video_files,\n",
    "                    out_images_folder=images_folder+r'\\\\0212\\\\',\n",
    "                    frameCaptureRateSec=5\n",
    "                   )"
   ]
  },
  {
   "cell_type": "markdown",
   "metadata": {},
   "source": [
    "### settings = dict(model_path=r'D:\\ML\\models\\faster_rcnn_inception_v2_coco_2018_01_28/frozen_inference_graph.pb',\n",
    "                    threshold=0.6,\n",
    "                    videos=video_files,\n",
    "                    out_images_folder=images_folder+r'\\\\0212\\\\',\n",
    "                    frameCaptureRateSec=60\n",
    "                   )\n",
    "settings"
   ]
  },
  {
   "cell_type": "code",
   "execution_count": 11,
   "metadata": {},
   "outputs": [],
   "source": []
  },
  {
   "cell_type": "code",
   "execution_count": 9,
   "metadata": {},
   "outputs": [],
   "source": [
    "import os\n",
    "import numpy as np\n",
    "import time\n",
    "from DetectorAPI import DetectorAPI"
   ]
  },
  {
   "cell_type": "code",
   "execution_count": 176,
   "metadata": {},
   "outputs": [],
   "source": []
  },
  {
   "cell_type": "code",
   "execution_count": 135,
   "metadata": {},
   "outputs": [],
   "source": []
  },
  {
   "cell_type": "code",
   "execution_count": 192,
   "metadata": {
    "collapsed": true,
    "jupyter": {
     "outputs_hidden": true
    }
   },
   "outputs": [
    {
     "name": "stdout",
     "output_type": "stream",
     "text": [
      "*0 : 0   -   ['04_colored', '02_green'] [1, 1]\n",
      "*0 : 5   -   ['03_white'] [1]\n",
      "*0 : 10   -   ['03_white', '02_green'] [1, 1]\n",
      "*0 : 15   -   ['01_purple', '02_green'] [1, 1]\n",
      "*0 : 20   -   ['01_purple'] [2]\n",
      "**0 : 30   -   ['02_green'] [1]\n",
      "*0 : 35   -   ['01_purple', '02_green'] [1, 1]\n",
      "*0 : 40   -   ['02_green'] [1]\n",
      "*0 : 45   -   ['02_green', '03_white'] [2, 1]\n",
      "*0 : 50   -   ['02_green'] [1]\n",
      "*0 : 55   -   ['03_white', '02_green'] [2, 1]\n",
      "*1 : 0   -   ['02_green', '03_white'] [1, 1]\n",
      "***1 : 15   -   ['02_green'] [1]\n",
      "*1 : 20   -   ['03_white'] [1]\n",
      "*1 : 25   -   ['02_green'] [1]\n",
      "*1 : 30   -   ['03_white'] [1]\n",
      "**1 : 40   -   ['04_colored'] [1]\n",
      "*1 : 45   -   ['03_white'] [1]\n",
      "*1 : 50   -   ['01_purple'] [1]\n",
      "****2 : 10   -   ['02_green'] [1]\n",
      "**2 : 20   -   ['02_green'] [2]\n",
      "*2 : 25   -   ['02_green', '01_purple'] [5, 1]\n",
      "*2 : 30   -   ['02_green', '01_purple'] [5, 2]\n",
      "*2 : 35   -   ['03_white', '02_green'] [4, 3]\n",
      "*2 : 40   -   ['02_green', '04_colored'] [3, 1]\n",
      "*2 : 45   -   ['03_white', '02_green'] [3, 2]\n",
      "*2 : 50   -   ['02_green', '03_white'] [3, 2]\n",
      "*2 : 55   -   ['02_green', '03_white'] [3, 2]\n",
      "*3 : 0   -   ['02_green', '03_white'] [3, 2]\n",
      "*3 : 5   -   ['02_green', '01_purple'] [5, 1]\n",
      "*3 : 10   -   ['02_green', '01_purple'] [4, 2]\n",
      "*3 : 15   -   ['02_green', '01_purple'] [5, 2]\n",
      "*3 : 20   -   ['03_white', '02_green'] [4, 4]\n",
      "*3 : 25   -   ['02_green', '03_white'] [4, 3]\n",
      "*3 : 30   -   ['02_green', '01_purple'] [6, 1]\n",
      "*3 : 35   -   ['02_green', '03_white'] [4, 1]\n",
      "*3 : 40   -   ['02_green', '03_white'] [4, 3]\n",
      "*3 : 45   -   ['02_green', '03_white'] [4, 2]\n",
      "*3 : 50   -   ['02_green', '03_white'] [5, 2]\n",
      "*3 : 55   -   ['02_green', '03_white'] [5, 1]\n",
      "*4 : 0   -   ['02_green', '03_white'] [5, 3]\n",
      "*4 : 5   -   ['02_green', '03_white'] [3, 3]\n",
      "*4 : 10   -   ['02_green', '01_purple'] [4, 1]\n",
      "*4 : 15   -   ['02_green', '04_colored'] [4, 1]\n",
      "*4 : 20   -   ['02_green', '04_colored'] [5, 1]\n",
      "*4 : 25   -   ['02_green', '03_white'] [4, 2]\n",
      "*4 : 30   -   ['04_colored', '02_green'] [1, 1]\n",
      "*4 : 35   -   ['02_green', '01_purple'] [2, 1]\n",
      "*4 : 40   -   ['02_green', '03_white'] [3, 3]\n",
      "*4 : 45   -   ['02_green', '03_white'] [5, 2]\n",
      "*4 : 50   -   ['02_green', '03_white'] [4, 1]\n",
      "*4 : 55   -   ['02_green', '04_colored'] [2, 1]\n",
      "*5 : 0   -   ['02_green', '03_white'] [5, 2]\n",
      "*5 : 5   -   ['02_green', '03_white'] [4, 1]\n",
      "*5 : 10   -   ['02_green', '01_purple'] [3, 2]\n",
      "*5 : 15   -   ['02_green'] [4]\n",
      "*5 : 20   -   ['03_white', '02_green'] [3, 2]\n",
      "*5 : 25   -   ['02_green', '03_white'] [3, 2]\n",
      "*5 : 30   -   ['02_green', '03_white'] [3, 2]\n",
      "*5 : 35   -   ['02_green', '03_white'] [2, 2]\n",
      "*5 : 40   -   ['02_green', '03_white'] [4, 4]\n",
      "*5 : 45   -   ['02_green', '03_white'] [4, 4]\n",
      "*5 : 50   -   ['03_white', '02_green'] [6, 3]\n",
      "*5 : 55   -   ['02_green', '03_white'] [3, 2]\n",
      "*6 : 0   -   ['02_green'] [2]\n",
      "*6 : 5   -   ['02_green', '03_white'] [3, 1]\n",
      "*6 : 10   -   ['03_white', '02_green'] [4, 2]\n",
      "*6 : 15   -   ['03_white', '02_green'] [3, 3]\n",
      "*6 : 20   -   ['03_white', '02_green'] [2, 1]\n",
      "*6 : 25   -   ['03_white', '02_green'] [2, 2]\n",
      "*6 : 30   -   ['03_white', '02_green'] [4, 2]\n",
      "*6 : 35   -   ['03_white', '02_green'] [3, 2]\n",
      "*6 : 40   -   ['03_white', '01_purple'] [2, 1]\n",
      "*6 : 45   -   ['03_white', '02_green'] [5, 2]\n",
      "*6 : 50   -   ['02_green', '03_white'] [4, 4]\n",
      "*6 : 55   -   ['02_green', '03_white'] [5, 2]\n",
      "*7 : 0   -   ['03_white', '02_green'] [3, 3]\n",
      "*7 : 5   -   ['03_white', '01_purple'] [4, 2]\n",
      "*7 : 10   -   ['02_green', '03_white'] [6, 3]\n",
      "*7 : 15   -   ['02_green', '04_colored'] [4, 1]\n",
      "*7 : 20   -   ['02_green', '01_purple'] [3, 1]\n",
      "*7 : 25   -   ['02_green', '03_white'] [3, 2]\n",
      "*7 : 30   -   ['02_green', '03_white'] [4, 3]\n",
      "*7 : 35   -   ['03_white', '02_green'] [3, 3]\n",
      "*7 : 40   -   ['02_green', '03_white'] [5, 3]\n",
      "*7 : 45   -   ['02_green', '03_white'] [5, 3]\n",
      "*7 : 50   -   ['03_white', '02_green'] [3, 2]\n",
      "*7 : 55   -   ['02_green', '01_purple'] [3, 2]\n",
      "*8 : 0   -   ['02_green', '01_purple'] [5, 2]\n",
      "*8 : 5   -   ['03_white', '01_purple'] [3, 2]\n",
      "*8 : 10   -   ['02_green', '03_white'] [2, 2]\n",
      "*8 : 15   -   ['02_green', '03_white'] [4, 2]\n",
      "*8 : 20   -   ['02_green', '04_colored'] [5, 1]\n",
      "*8 : 25   -   ['01_purple', '02_green'] [2, 2]\n",
      "*8 : 30   -   ['01_purple', '03_white'] [1, 1]\n",
      "*8 : 35   -   ['02_green', '01_purple'] [1, 1]\n",
      "*8 : 40   -   ['03_white', '01_purple'] [3, 2]\n",
      "*8 : 45   -   ['02_green', '03_white'] [5, 1]\n",
      "*8 : 50   -   ['03_white', '02_green'] [6, 2]\n",
      "*8 : 55   -   ['03_white', '02_green'] [4, 3]\n",
      "*9 : 0   -   ['02_green', '03_white'] [4, 2]\n",
      "*9 : 5   -   ['02_green', '01_purple'] [3, 2]\n",
      "*9 : 10   -   ['03_white', '02_green'] [3, 2]\n",
      "*9 : 15   -   ['02_green', '03_white'] [2, 2]\n",
      "*9 : 20   -   ['03_white', '02_green'] [3, 2]\n",
      "*9 : 25   -   ['02_green', '03_white'] [5, 3]\n",
      "*9 : 30   -   ['02_green', '03_white'] [5, 2]\n",
      "*9 : 35   -   ['03_white', '02_green'] [5, 4]\n",
      "*9 : 40   -   ['02_green', '03_white'] [4, 4]\n",
      "*9 : 45   -   ['02_green', '03_white'] [4, 3]\n",
      "*9 : 50   -   ['02_green', '01_purple'] [2, 1]\n",
      "*9 : 55   -   ['01_purple', '02_green'] [2, 2]\n",
      "*10 : 0   -   ['02_green', '03_white'] [4, 3]\n",
      "*10 : 5   -   ['02_green', '01_purple'] [4, 1]\n",
      "*10 : 10   -   ['02_green', '01_purple'] [3, 1]\n",
      "*10 : 15   -   ['02_green', '01_purple'] [4, 1]\n",
      "*10 : 20   -   ['02_green', '03_white'] [2, 1]\n",
      "*10 : 25   -   ['02_green', '03_white'] [5, 3]\n",
      "*10 : 30   -   ['03_white', '02_green'] [4, 4]\n",
      "*10 : 35   -   ['02_green', '03_white'] [5, 3]\n",
      "*10 : 40   -   ['02_green', '03_white'] [3, 3]\n",
      "*10 : 45   -   ['03_white', '02_green'] [3, 2]\n",
      "*10 : 50   -   ['02_green', '03_white'] [5, 3]\n",
      "*10 : 55   -   ['03_white', '02_green'] [4, 3]\n",
      "*11 : 0   -   ['02_green', '03_white'] [4, 2]\n",
      "*11 : 5   -   ['02_green', '03_white'] [4, 1]\n",
      "*11 : 10   -   ['02_green', '01_purple'] [4, 1]\n",
      "*11 : 15   -   ['02_green', '01_purple'] [2, 1]\n",
      "*11 : 20   -   ['02_green', '03_white'] [4, 1]\n",
      "*11 : 25   -   ['03_white', '01_purple'] [2, 2]\n",
      "*11 : 30   -   ['02_green', '01_purple'] [2, 1]\n",
      "*11 : 35   -   ['02_green', '03_white'] [2, 2]\n",
      "*11 : 40   -   ['02_green', '01_purple'] [4, 1]\n",
      "*11 : 45   -   ['02_green', '03_white'] [6, 3]\n",
      "*11 : 50   -   ['02_green', '03_white'] [6, 2]\n",
      "*11 : 55   -   ['03_white', '02_green'] [3, 3]\n",
      "*12 : 0   -   ['02_green', '03_white'] [3, 2]\n",
      "*12 : 5   -   ['02_green', '01_purple'] [5, 3]\n",
      "*12 : 10   -   ['02_green', '01_purple'] [6, 4]\n",
      "*12 : 15   -   ['01_purple', '02_green'] [4, 3]\n",
      "*12 : 20   -   ['01_purple', '02_green'] [5, 3]\n",
      "*12 : 25   -   ['01_purple', '03_white'] [3, 2]\n",
      "*12 : 30   -   ['02_green', '03_white'] [3, 3]\n",
      "*12 : 35   -   ['01_purple', '02_green'] [3, 2]\n",
      "*12 : 40   -   ['01_purple', '03_white'] [2, 2]\n",
      "*12 : 45   -   ['01_purple', '03_white'] [4, 2]\n",
      "*12 : 50   -   ['01_purple', '02_green'] [5, 1]\n",
      "*12 : 55   -   ['01_purple', '02_green'] [5, 3]\n",
      "*13 : 0   -   ['01_purple', '03_white'] [4, 1]\n",
      "*13 : 5   -   ['02_green', '01_purple'] [3, 3]\n",
      "*13 : 10   -   ['01_purple', '02_green'] [4, 2]\n",
      "*13 : 15   -   ['01_purple', '03_white'] [4, 1]\n",
      "*13 : 20   -   ['01_purple', '02_green'] [3, 2]\n",
      "*13 : 25   -   ['01_purple', '03_white'] [4, 1]\n",
      "*13 : 30   -   ['01_purple', '02_green'] [2, 1]\n",
      "*13 : 35   -   ['01_purple', '02_green'] [2, 1]\n",
      "*13 : 40   -   ['01_purple', '02_green'] [3, 2]\n",
      "*13 : 45   -   ['01_purple', '02_green'] [3, 2]\n",
      "*13 : 50   -   ['02_green', '01_purple'] [3, 3]\n",
      "*13 : 55   -   ['02_green', '01_purple'] [3, 3]\n",
      "*14 : 0   -   ['02_green', '01_purple'] [3, 3]\n",
      "*14 : 5   -   ['02_green', '03_white'] [3, 2]\n",
      "*14 : 10   -   ['02_green', '01_purple'] [4, 2]\n",
      "*14 : 15   -   ['02_green', '03_white'] [2, 2]\n",
      "*14 : 20   -   ['02_green', '01_purple'] [4, 3]\n",
      "*14 : 25   -   ['01_purple', '02_green'] [3, 2]\n",
      "*14 : 30   -   ['01_purple', '02_green'] [3, 2]\n",
      "*14 : 35   -   ['02_green', '01_purple'] [4, 4]\n",
      "*14 : 40   -   ['03_white', '01_purple'] [2, 2]\n",
      "*14 : 45   -   ['02_green', '01_purple'] [5, 1]\n",
      "*14 : 50   -   ['02_green', '01_purple'] [4, 1]\n",
      "*14 : 55   -   ['02_green', '01_purple'] [3, 3]\n",
      "*15 : 0   -   ['01_purple', '02_green'] [4, 2]\n",
      "*15 : 5   -   ['03_white', '02_green'] [2, 2]\n",
      "*15 : 10   -   ['01_purple', '02_green'] [4, 2]\n",
      "*15 : 15   -   ['01_purple', '03_white'] [3, 2]\n",
      "*15 : 20   -   ['01_purple', '02_green'] [4, 4]\n",
      "*15 : 25   -   ['02_green', '01_purple'] [4, 3]\n",
      "*15 : 30   -   ['02_green', '01_purple'] [4, 2]\n",
      "*15 : 35   -   ['01_purple', '02_green'] [4, 4]\n",
      "*15 : 40   -   ['02_green', '01_purple'] [4, 4]\n",
      "*15 : 45   -   ['01_purple', '02_green'] [4, 2]\n",
      "*15 : 50   -   ['01_purple', '02_green'] [5, 3]\n",
      "*15 : 55   -   ['01_purple', '02_green'] [4, 3]\n",
      "*16 : 0   -   ['02_green', '01_purple'] [4, 4]\n",
      "*16 : 5   -   ['02_green', '01_purple'] [4, 3]\n",
      "*16 : 10   -   ['02_green', '03_white'] [3, 2]\n",
      "*16 : 15   -   ['01_purple', '03_white'] [3, 2]\n",
      "*16 : 20   -   ['02_green', '01_purple'] [1, 1]\n",
      "*16 : 25   -   ['02_green', '01_purple'] [3, 3]\n",
      "*16 : 30   -   ['01_purple', '02_green'] [5, 4]\n",
      "*16 : 35   -   ['01_purple', '02_green'] [5, 2]\n",
      "*16 : 40   -   ['01_purple', '02_green'] [3, 2]\n",
      "*16 : 45   -   ['01_purple', '03_white'] [3, 2]\n",
      "*16 : 50   -   ['02_green', '01_purple'] [3, 2]\n",
      "*16 : 55   -   ['02_green', '01_purple'] [5, 4]\n",
      "*17 : 0   -   ['02_green', '01_purple'] [4, 4]\n",
      "*17 : 5   -   ['02_green', '01_purple'] [5, 3]\n",
      "*17 : 10   -   ['01_purple', '03_white'] [4, 3]\n",
      "*17 : 15   -   ['02_green', '01_purple'] [4, 4]\n",
      "*17 : 20   -   ['01_purple', '03_white'] [4, 3]\n",
      "*17 : 25   -   ['03_white', '01_purple'] [3, 2]\n",
      "*17 : 30   -   ['01_purple', '03_white'] [4, 2]\n",
      "*17 : 35   -   ['01_purple', '02_green'] [4, 3]\n",
      "*17 : 40   -   ['02_green', '01_purple'] [4, 2]\n",
      "*17 : 45   -   ['01_purple', '02_green'] [3, 3]\n",
      "*17 : 50   -   ['01_purple', '02_green'] [5, 2]\n",
      "*17 : 55   -   ['02_green', '01_purple'] [4, 4]\n",
      "*18 : 0   -   ['02_green', '01_purple'] [3, 2]\n",
      "*18 : 5   -   ['01_purple', '02_green'] [4, 3]\n",
      "*18 : 10   -   ['02_green', '01_purple'] [3, 2]\n",
      "*18 : 15   -   ['01_purple', '02_green'] [4, 3]\n",
      "*18 : 20   -   ['02_green', '01_purple'] [2, 2]\n",
      "*18 : 25   -   ['02_green', '01_purple'] [3, 2]\n",
      "*18 : 30   -   ['01_purple', '03_white'] [4, 2]\n",
      "*18 : 35   -   ['01_purple', '02_green'] [3, 2]\n",
      "*18 : 40   -   ['01_purple', '02_green'] [4, 2]\n",
      "*18 : 45   -   ['01_purple', '02_green'] [5, 4]\n",
      "*18 : 50   -   ['04_colored', '02_green'] [1, 1]\n",
      "*18 : 55   -   ['01_purple', '02_green'] [6, 3]\n",
      "*19 : 0   -   ['01_purple', '02_green'] [4, 4]\n",
      "*19 : 5   -   ['03_white', '01_purple'] [3, 3]\n",
      "*19 : 10   -   ['03_white', '02_green'] [3, 2]\n",
      "*19 : 15   -   ['01_purple', '03_white'] [4, 3]\n",
      "*19 : 20   -   ['01_purple', '03_white'] [4, 2]\n",
      "*19 : 25   -   ['01_purple', '03_white'] [4, 1]\n",
      "*19 : 30   -   ['01_purple', '03_white'] [3, 2]\n",
      "*19 : 35   -   ['01_purple', '03_white'] [4, 4]\n",
      "*19 : 40   -   ['03_white', '01_purple'] [3, 2]\n",
      "*19 : 45   -   ['01_purple', '02_green'] [3, 2]\n",
      "*19 : 50   -   ['01_purple', '03_white'] [2, 1]\n",
      "*19 : 55   -   ['03_white', '02_green'] [1, 1]\n",
      "*20 : 0   -   ['03_white', '01_purple'] [1, 1]\n",
      "*20 : 5   -   ['03_white', '01_purple'] [2, 2]\n",
      "*20 : 10   -   ['03_white', '01_purple'] [1, 1]\n",
      "*20 : 15   -   ['03_white'] [2]\n",
      "*20 : 20   -   ['03_white', '01_purple'] [3, 3]\n",
      "*20 : 25   -   ['01_purple', '03_white'] [4, 2]\n",
      "*20 : 30   -   ['01_purple', '02_green'] [4, 2]\n",
      "*20 : 35   -   ['02_green', '01_purple'] [2, 1]\n",
      "*20 : 40   -   ['03_white', '01_purple'] [3, 3]\n",
      "*20 : 45   -   ['03_white', '01_purple'] [3, 2]\n",
      "*20 : 50   -   ['01_purple', '02_green'] [3, 3]\n",
      "*20 : 55   -   ['01_purple', '03_white'] [4, 3]\n",
      "*21 : 0   -   ['01_purple', '02_green'] [4, 2]\n",
      "*21 : 5   -   ['01_purple', '03_white'] [6, 3]\n",
      "*21 : 10   -   ['01_purple', '03_white'] [5, 4]\n",
      "*21 : 15   -   ['01_purple', '03_white'] [5, 2]\n",
      "*21 : 20   -   ['01_purple', '03_white'] [5, 2]\n",
      "*21 : 25   -   ['01_purple', '03_white'] [3, 2]\n",
      "*21 : 30   -   ['02_green', '01_purple'] [3, 2]\n",
      "*21 : 35   -   ['01_purple', '03_white'] [5, 2]\n",
      "*21 : 40   -   ['03_white', '01_purple'] [3, 3]\n",
      "*21 : 45   -   ['01_purple', '03_white'] [5, 4]\n",
      "*21 : 50   -   ['03_white', '01_purple'] [4, 2]\n",
      "*21 : 55   -   ['01_purple', '03_white'] [4, 3]\n",
      "*22 : 0   -   ['01_purple', '03_white'] [2, 2]\n",
      "*22 : 5   -   ['02_green', '01_purple'] [2, 1]\n",
      "*22 : 10   -   ['01_purple', '02_green'] [2, 2]\n",
      "*22 : 15   -   ['01_purple', '02_green'] [4, 3]\n",
      "*22 : 20   -   ['03_white', '01_purple'] [3, 3]\n",
      "*22 : 25   -   ['01_purple', '02_green'] [3, 3]\n",
      "*22 : 30   -   ['01_purple', '03_white'] [4, 4]\n",
      "*22 : 35   -   ['03_white', '01_purple'] [3, 3]\n",
      "*22 : 40   -   ['02_green', '01_purple'] [4, 4]\n",
      "*22 : 45   -   ['03_white', '01_purple'] [3, 3]\n",
      "*22 : 50   -   ['03_white', '01_purple'] [5, 3]\n",
      "*22 : 55   -   ['03_white', '01_purple'] [4, 4]\n",
      "*23 : 0   -   ['03_white', '01_purple'] [4, 4]\n",
      "*23 : 5   -   ['01_purple', '03_white'] [7, 4]\n",
      "*23 : 10   -   ['01_purple', '03_white'] [5, 4]\n",
      "*23 : 15   -   ['01_purple', '03_white'] [6, 4]\n",
      "*23 : 20   -   ['03_white', '01_purple'] [4, 4]\n",
      "*23 : 25   -   ['01_purple', '03_white'] [4, 3]\n",
      "*23 : 30   -   ['01_purple', '03_white'] [5, 2]\n",
      "*23 : 35   -   ['01_purple', '03_white'] [3, 3]\n",
      "*23 : 40   -   ['01_purple', '03_white'] [3, 1]\n",
      "*23 : 45   -   ['01_purple', '03_white'] [3, 1]\n",
      "*23 : 50   -   ['01_purple', '02_green'] [2, 1]\n",
      "*23 : 55   -   ['01_purple', '02_green'] [2, 2]\n",
      "*24 : 0   -   ['01_purple', '02_green'] [5, 4]\n",
      "*24 : 5   -   ['03_white', '01_purple'] [4, 3]\n",
      "*24 : 10   -   ['01_purple', '02_green'] [3, 2]\n",
      "*24 : 15   -   ['01_purple', '03_white'] [3, 2]\n",
      "*24 : 20   -   ['01_purple', '03_white'] [4, 2]\n",
      "*24 : 25   -   ['03_white', '01_purple'] [3, 2]\n",
      "*24 : 30   -   ['03_white'] [3]\n",
      "*24 : 35   -   ['03_white', '01_purple'] [2, 1]\n",
      "*24 : 40   -   ['03_white', '01_purple'] [2, 2]\n",
      "*24 : 45   -   ['03_white', '01_purple'] [4, 4]\n",
      "*24 : 50   -   ['01_purple', '03_white'] [4, 3]\n",
      "*24 : 55   -   ['03_white', '01_purple'] [4, 2]\n",
      "*25 : 0   -   ['01_purple', '03_white'] [3, 3]\n",
      "*25 : 5   -   ['01_purple', '03_white'] [4, 2]\n",
      "*25 : 10   -   ['01_purple', '03_white'] [3, 2]\n",
      "*25 : 15   -   ['03_white', '01_purple'] [4, 2]\n",
      "*25 : 20   -   ['01_purple', '03_white'] [5, 4]\n",
      "*25 : 25   -   ['02_green', '01_purple'] [4, 3]\n",
      "*25 : 30   -   ['01_purple', '03_white'] [4, 3]\n",
      "*25 : 35   -   ['03_white', '01_purple'] [4, 2]\n",
      "*25 : 40   -   ['03_white', '02_green'] [4, 4]\n",
      "*25 : 45   -   ['03_white', '02_green'] [5, 3]\n",
      "*25 : 50   -   ['03_white', '01_purple'] [5, 3]\n",
      "*25 : 55   -   ['03_white', '01_purple'] [4, 3]\n",
      "*26 : 0   -   ['02_green', '03_white'] [3, 2]\n",
      "*26 : 5   -   ['03_white', '01_purple'] [5, 2]\n",
      "*26 : 10   -   ['03_white', '01_purple'] [4, 2]\n",
      "*26 : 15   -   ['03_white', '02_green'] [5, 3]\n",
      "*26 : 20   -   ['02_green', '03_white'] [5, 4]\n",
      "*26 : 25   -   ['02_green', '01_purple'] [4, 4]\n",
      "*26 : 30   -   ['03_white', '02_green'] [6, 2]\n",
      "*26 : 35   -   ['03_white', '02_green'] [3, 3]\n",
      "*26 : 40   -   ['03_white', '02_green'] [4, 1]\n",
      "*26 : 45   -   ['03_white', '01_purple'] [3, 3]\n",
      "*26 : 50   -   ['03_white', '01_purple'] [6, 3]\n",
      "*26 : 55   -   ['03_white', '01_purple'] [4, 3]\n",
      "*27 : 0   -   ['02_green', '03_white'] [5, 2]\n",
      "*27 : 5   -   ['03_white', '02_green'] [5, 3]\n",
      "*27 : 10   -   ['03_white', '02_green'] [3, 3]\n",
      "*27 : 15   -   ['03_white', '01_purple'] [4, 2]\n",
      "*27 : 20   -   ['03_white', '02_green'] [5, 2]\n",
      "*27 : 25   -   ['01_purple', '02_green'] [6, 3]\n",
      "*27 : 30   -   ['03_white', '02_green'] [5, 3]\n",
      "*27 : 35   -   ['02_green', '01_purple'] [2, 2]\n",
      "*27 : 40   -   ['03_white', '02_green'] [4, 3]\n",
      "*27 : 45   -   ['03_white', '01_purple'] [3, 3]\n",
      "*27 : 50   -   ['02_green', '03_white'] [4, 2]\n",
      "*27 : 55   -   ['02_green', '03_white'] [4, 3]\n",
      "*28 : 0   -   ['02_green', '03_white'] [3, 3]\n",
      "*28 : 5   -   ['02_green', '01_purple'] [3, 2]\n",
      "*28 : 10   -   ['03_white', '01_purple'] [3, 3]\n",
      "*28 : 15   -   ['02_green', '03_white'] [5, 4]\n",
      "*28 : 20   -   ['03_white', '01_purple'] [4, 3]\n",
      "*28 : 25   -   ['03_white', '01_purple'] [5, 2]\n",
      "*28 : 30   -   ['03_white', '02_green'] [4, 4]\n",
      "*28 : 35   -   ['03_white', '02_green'] [4, 4]\n",
      "*28 : 40   -   ['02_green', '03_white'] [4, 2]\n",
      "*28 : 45   -   ['03_white', '02_green'] [3, 2]\n",
      "*28 : 50   -   ['01_purple', '03_white'] [4, 3]\n",
      "*28 : 55   -   ['03_white', '01_purple'] [5, 2]\n",
      "*29 : 0   -   ['03_white', '01_purple'] [3, 2]\n",
      "*29 : 5   -   ['01_purple', '02_green'] [3, 1]\n",
      "*29 : 10   -   ['03_white', '01_purple'] [2, 2]\n",
      "*29 : 15   -   ['02_green', '03_white'] [3, 2]\n",
      "*29 : 20   -   ['03_white', '02_green'] [4, 3]\n",
      "*29 : 25   -   ['02_green', '03_white'] [4, 4]\n",
      "*29 : 30   -   ['02_green', '03_white'] [4, 3]\n",
      "*29 : 35   -   ['02_green', '03_white'] [4, 3]\n",
      "*29 : 40   -   ['03_white', '02_green'] [4, 3]\n",
      "*29 : 45   -   ['03_white', '02_green'] [4, 2]\n",
      "*29 : 50   -   ['03_white', '01_purple'] [4, 3]\n",
      "*29 : 55   -   ['03_white', '02_green'] [4, 2]\n",
      "*30 : 0   -   ['03_white', '02_green'] [5, 3]\n",
      "*30 : 5   -   ['02_green', '01_purple'] [3, 3]\n",
      "*30 : 10   -   ['03_white', '02_green'] [3, 2]\n",
      "*30 : 15   -   ['03_white', '02_green'] [3, 3]\n",
      "*30 : 20   -   ['02_green', '01_purple'] [4, 4]\n",
      "*30 : 25   -   ['02_green', '03_white'] [4, 2]\n",
      "*30 : 30   -   ['03_white', '02_green'] [4, 2]\n",
      "*30 : 35   -   ['03_white', '01_purple'] [4, 2]\n",
      "*30 : 40   -   ['02_green', '03_white'] [3, 2]\n",
      "*30 : 45   -   ['03_white', '02_green'] [4, 4]\n",
      "*30 : 50   -   ['02_green', '03_white'] [4, 3]\n",
      "*30 : 55   -   ['03_white', '02_green'] [2, 2]\n",
      "*31 : 0   -   ['03_white', '02_green'] [2, 2]\n",
      "*31 : 5   -   ['03_white', '02_green'] [3, 3]\n",
      "*31 : 10   -   ['03_white', '02_green'] [4, 4]\n",
      "*31 : 15   -   ['02_green', '01_purple'] [4, 2]\n",
      "*31 : 20   -   ['02_green', '03_white'] [4, 4]\n",
      "*31 : 25   -   ['02_green', '03_white'] [4, 1]\n",
      "*31 : 30   -   ['02_green', '03_white'] [6, 2]\n",
      "*31 : 35   -   ['02_green', '03_white'] [4, 4]\n",
      "*31 : 40   -   ['03_white', '02_green'] [4, 2]\n",
      "*31 : 45   -   ['02_green', '03_white'] [2, 2]\n",
      "*31 : 50   -   ['02_green', '03_white'] [4, 3]\n",
      "*31 : 55   -   ['02_green', '01_purple'] [3, 2]\n",
      "*32 : 0   -   ['02_green', '01_purple'] [3, 2]\n",
      "*32 : 5   -   ['01_purple', '02_green'] [5, 2]\n",
      "*32 : 10   -   ['01_purple', '02_green'] [6, 2]\n",
      "*32 : 15   -   ['01_purple', '02_green'] [5, 2]\n",
      "*32 : 20   -   ['01_purple', '02_green'] [5, 2]\n",
      "*32 : 25   -   ['01_purple', '02_green'] [3, 3]\n",
      "*32 : 30   -   ['01_purple', '02_green'] [7, 2]\n",
      "*32 : 35   -   ['01_purple', '02_green'] [5, 3]\n",
      "*32 : 40   -   ['01_purple', '02_green'] [4, 3]\n",
      "*32 : 45   -   ['01_purple', '03_white'] [4, 2]\n",
      "*32 : 50   -   ['02_green', '01_purple'] [6, 5]\n",
      "*32 : 55   -   ['02_green', '01_purple'] [4, 2]\n",
      "*33 : 0   -   ['01_purple', '03_white'] [5, 2]\n",
      "*33 : 5   -   ['01_purple', '02_green'] [4, 1]\n",
      "*33 : 10   -   ['01_purple', '03_white'] [4, 2]\n",
      "*33 : 15   -   ['01_purple', '02_green'] [3, 2]\n",
      "*33 : 20   -   ['01_purple', '03_white'] [4, 2]\n",
      "*33 : 25   -   ['03_white', '01_purple'] [2, 2]\n",
      "*33 : 30   -   ['02_green', '01_purple'] [5, 4]\n",
      "*33 : 35   -   ['01_purple', '02_green'] [4, 4]\n",
      "*33 : 40   -   ['01_purple', '02_green'] [3, 2]\n",
      "*33 : 45   -   ['01_purple', '03_white'] [5, 1]\n",
      "*33 : 50   -   ['01_purple', '02_green'] [2, 1]\n",
      "*33 : 55   -   ['01_purple', '02_green'] [2, 2]\n",
      "*34 : 0   -   ['01_purple', '03_white'] [2, 2]\n",
      "*34 : 5   -   ['01_purple', '02_green'] [2, 1]\n",
      "*34 : 10   -   ['01_purple', '02_green'] [4, 3]\n",
      "*34 : 15   -   ['01_purple', '02_green'] [6, 2]\n",
      "*34 : 20   -   ['01_purple', '03_white'] [4, 2]\n",
      "*34 : 25   -   ['01_purple', '02_green'] [3, 3]\n",
      "*34 : 30   -   ['01_purple', '03_white'] [4, 2]\n",
      "*34 : 35   -   ['02_green', '01_purple'] [4, 4]\n",
      "*34 : 40   -   ['01_purple', '02_green'] [3, 2]\n",
      "*34 : 45   -   ['02_green', '01_purple'] [3, 3]\n",
      "*34 : 50   -   ['03_white', '01_purple'] [2, 1]\n",
      "*34 : 55   -   ['01_purple', '03_white'] [4, 1]\n",
      "*35 : 0   -   ['01_purple', '02_green'] [3, 2]\n",
      "*35 : 5   -   ['01_purple', '02_green'] [5, 2]\n",
      "*35 : 10   -   ['01_purple', '03_white'] [3, 2]\n",
      "*35 : 15   -   ['01_purple', '03_white'] [4, 3]\n",
      "*35 : 20   -   ['01_purple', '02_green'] [5, 3]\n",
      "*35 : 25   -   ['01_purple', '03_white'] [3, 2]\n",
      "*35 : 30   -   ['01_purple', '02_green'] [5, 2]\n",
      "*35 : 35   -   ['01_purple', '03_white'] [3, 1]\n",
      "*35 : 40   -   ['01_purple', '02_green'] [4, 1]\n",
      "*35 : 45   -   ['01_purple', '02_green'] [3, 1]\n",
      "*35 : 50   -   ['01_purple', '02_green'] [3, 1]\n",
      "*35 : 55   -   ['01_purple', '03_white'] [2, 1]\n",
      "*36 : 0   -   ['01_purple', '02_green'] [3, 1]\n",
      "*36 : 5   -   ['01_purple', '02_green'] [2, 2]\n",
      "*36 : 10   -   ['01_purple', '02_green'] [2, 2]\n",
      "*36 : 15   -   ['01_purple', '02_green'] [5, 2]\n",
      "*36 : 20   -   ['02_green', '01_purple'] [5, 3]\n",
      "*36 : 25   -   ['01_purple', '02_green'] [4, 3]\n",
      "*36 : 30   -   ['01_purple', '04_colored'] [5, 1]\n",
      "*36 : 35   -   ['01_purple', '02_green'] [3, 2]\n",
      "*36 : 40   -   ['01_purple', '02_green'] [8, 2]\n",
      "*36 : 45   -   ['01_purple', '02_green'] [5, 2]\n",
      "*36 : 50   -   ['01_purple', '02_green'] [4, 2]\n",
      "*36 : 55   -   ['01_purple', '02_green'] [4, 2]\n",
      "*37 : 0   -   ['02_green', '01_purple'] [5, 3]\n",
      "*37 : 5   -   ['01_purple', '02_green'] [3, 2]\n",
      "*37 : 10   -   ['01_purple', '04_colored'] [3, 1]\n",
      "*37 : 15   -   ['01_purple', '04_colored'] [4, 1]\n",
      "*37 : 20   -   ['01_purple', '02_green'] [3, 2]\n",
      "*37 : 25   -   ['01_purple', '02_green'] [4, 2]\n",
      "*37 : 30   -   ['01_purple', '02_green'] [5, 1]\n",
      "*37 : 35   -   ['01_purple', '03_white'] [4, 1]\n",
      "*37 : 40   -   ['02_green', '01_purple'] [5, 4]\n",
      "*37 : 45   -   ['01_purple', '03_white'] [4, 2]\n",
      "*37 : 50   -   ['01_purple', '03_white'] [3, 2]\n",
      "*37 : 55   -   ['01_purple', '02_green'] [2, 2]\n",
      "*38 : 0   -   ['01_purple', '03_white'] [2, 2]\n",
      "*38 : 5   -   ['01_purple', '03_white'] [2, 1]\n",
      "*38 : 10   -   ['01_purple', '03_white'] [5, 1]\n",
      "*38 : 15   -   ['01_purple', '03_white'] [4, 2]\n",
      "*38 : 20   -   ['02_green', '01_purple'] [3, 3]\n",
      "*38 : 25   -   ['02_green', '01_purple'] [3, 2]\n",
      "*38 : 30   -   ['03_white', '01_purple'] [4, 2]\n",
      "*38 : 35   -   ['03_white', '01_purple'] [4, 2]\n",
      "*38 : 40   -   ['03_white', '01_purple'] [8, 2]\n",
      "*38 : 45   -   ['03_white', '02_green'] [5, 2]\n",
      "*38 : 50   -   ['03_white', '02_green'] [4, 2]\n",
      "*38 : 55   -   ['03_white', '02_green'] [5, 3]\n",
      "*39 : 0   -   ['03_white', '02_green'] [5, 3]\n",
      "*39 : 5   -   ['02_green', '03_white'] [5, 4]\n",
      "*39 : 10   -   ['02_green', '03_white'] [5, 1]\n",
      "*39 : 15   -   ['02_green', '03_white'] [4, 2]\n",
      "*39 : 20   -   ['03_white', '02_green'] [3, 3]\n",
      "*39 : 25   -   ['03_white', '02_green'] [5, 3]\n",
      "*39 : 30   -   ['02_green', '03_white'] [4, 2]\n",
      "*39 : 35   -   ['03_white', '02_green'] [2, 1]\n",
      "*39 : 40   -   ['02_green', '01_purple'] [2, 2]\n",
      "*39 : 45   -   ['03_white', '02_green'] [2, 2]\n",
      "*39 : 50   -   ['02_green', '03_white'] [4, 2]\n",
      "*39 : 55   -   ['02_green', '03_white'] [3, 1]\n",
      "*40 : 0   -   ['02_green', '01_purple'] [2, 1]\n",
      "*40 : 5   -   ['01_purple', '02_green'] [2, 2]\n",
      "*40 : 10   -   ['03_white', '02_green'] [2, 2]\n",
      "*40 : 15   -   ['03_white', '02_green'] [3, 2]\n",
      "*40 : 20   -   ['02_green', '03_white'] [4, 3]\n",
      "*40 : 25   -   ['02_green', '01_purple'] [5, 3]\n",
      "*40 : 30   -   ['03_white', '02_green'] [3, 2]\n",
      "*40 : 35   -   ['02_green', '01_purple'] [4, 1]\n",
      "*40 : 40   -   ['02_green', '03_white'] [4, 2]\n",
      "*40 : 45   -   ['02_green', '03_white'] [4, 2]\n",
      "*40 : 50   -   ['02_green', '03_white'] [3, 3]\n",
      "*40 : 55   -   ['02_green', '03_white'] [2, 2]\n",
      "*41 : 0   -   ['03_white', '02_green'] [5, 3]\n",
      "*41 : 5   -   ['03_white', '02_green'] [3, 3]\n",
      "*41 : 10   -   ['03_white', '02_green'] [3, 1]\n",
      "*41 : 15   -   ['03_white', '02_green'] [4, 3]\n",
      "*41 : 20   -   ['02_green', '01_purple'] [4, 2]\n",
      "*41 : 25   -   ['03_white', '02_green'] [4, 2]\n",
      "*41 : 30   -   ['02_green', '03_white'] [6, 4]\n",
      "*41 : 35   -   ['03_white', '02_green'] [4, 4]\n",
      "*41 : 40   -   ['03_white', '02_green'] [3, 3]\n",
      "*41 : 45   -   ['03_white', '02_green'] [4, 2]\n",
      "*41 : 50   -   ['03_white', '02_green'] [5, 4]\n",
      "*41 : 55   -   ['02_green', '03_white'] [5, 3]\n",
      "*42 : 0   -   ['03_white', '01_purple'] [2, 2]\n",
      "*42 : 5   -   ['01_purple', '03_white'] [4, 3]\n",
      "*42 : 10   -   ['03_white', '02_green'] [2, 2]\n",
      "*42 : 15   -   ['03_white', '01_purple'] [3, 3]\n",
      "*42 : 20   -   ['02_green', '03_white'] [4, 3]\n",
      "*42 : 25   -   ['02_green', '03_white'] [5, 4]\n",
      "*42 : 30   -   ['03_white', '02_green'] [4, 3]\n",
      "*42 : 35   -   ['03_white', '02_green'] [4, 4]\n",
      "*42 : 40   -   ['03_white', '02_green'] [4, 2]\n",
      "*42 : 45   -   ['03_white', '02_green'] [4, 3]\n",
      "*42 : 50   -   ['03_white', '02_green'] [4, 3]\n",
      "*42 : 55   -   ['02_green', '03_white'] [5, 3]\n",
      "*43 : 0   -   ['02_green', '03_white'] [3, 3]\n",
      "*43 : 5   -   ['02_green', '03_white'] [3, 2]\n",
      "*43 : 10   -   ['02_green', '03_white'] [5, 1]\n",
      "*43 : 15   -   ['02_green', '03_white'] [4, 2]\n",
      "*43 : 20   -   ['03_white', '01_purple'] [4, 3]\n",
      "*43 : 25   -   ['02_green', '03_white'] [5, 2]\n",
      "*43 : 30   -   ['01_purple', '03_white'] [2, 1]\n",
      "*43 : 35   -   ['02_green', '01_purple'] [2, 1]\n",
      "*43 : 40   -   ['03_white', '01_purple'] [2, 2]\n",
      "*43 : 45   -   ['03_white', '01_purple'] [2, 1]\n",
      "*43 : 50   -   ['01_purple', '02_green'] [2, 2]\n",
      "*43 : 55   -   ['03_white', '02_green'] [2, 1]\n",
      "*44 : 0   -   ['03_white', '01_purple'] [3, 1]\n",
      "*44 : 5   -   ['01_purple', '03_white'] [2, 1]\n",
      "*44 : 10   -   ['03_white', '02_green'] [1, 1]\n",
      "*44 : 15   -   ['03_white', '02_green'] [4, 2]\n",
      "*44 : 20   -   ['02_green', '03_white'] [3, 2]\n",
      "*44 : 25   -   ['01_purple', '03_white'] [3, 1]\n",
      "*44 : 30   -   ['03_white', '01_purple'] [2, 2]\n",
      "*44 : 35   -   ['03_white', '02_green'] [1, 1]\n",
      "*44 : 40   -   ['03_white', '02_green'] [2, 1]\n",
      "*44 : 45   -   ['03_white', '01_purple'] [3, 2]\n",
      "*44 : 50   -   ['01_purple'] [3]\n",
      "*44 : 55   -   ['01_purple'] [5]\n",
      "*45 : 0   -   ['01_purple', '02_green'] [6, 2]\n",
      "*45 : 5   -   ['01_purple', '02_green'] [4, 2]\n",
      "*45 : 10   -   ['01_purple', '02_green'] [4, 3]\n",
      "*45 : 15   -   ['01_purple', '03_white'] [5, 1]\n",
      "*45 : 20   -   ['01_purple', '04_colored'] [4, 1]\n",
      "*45 : 25   -   ['01_purple', '04_colored'] [3, 1]\n",
      "*45 : 30   -   ['01_purple', '02_green'] [4, 1]\n",
      "*45 : 35   -   ['01_purple', '02_green'] [3, 2]\n",
      "*45 : 40   -   ['01_purple', '02_green'] [7, 2]\n",
      "*45 : 45   -   ['01_purple', '04_colored'] [5, 1]\n",
      "*45 : 50   -   ['01_purple', '02_green'] [6, 2]\n",
      "*45 : 55   -   ['01_purple', '02_green'] [2, 2]\n",
      "*46 : 0   -   ['01_purple', '02_green'] [6, 2]\n",
      "*46 : 5   -   ['01_purple'] [3]\n",
      "*46 : 10   -   ['01_purple', '02_green'] [5, 2]\n",
      "*46 : 15   -   ['01_purple', '02_green'] [7, 2]\n",
      "*46 : 20   -   ['01_purple', '04_colored'] [6, 1]\n",
      "*46 : 25   -   ['01_purple', '02_green'] [4, 2]\n",
      "*46 : 30   -   ['02_green', '03_white'] [5, 2]\n",
      "*46 : 35   -   ['01_purple', '02_green'] [5, 2]\n",
      "*46 : 40   -   ['01_purple', '02_green'] [6, 2]\n",
      "*46 : 45   -   ['01_purple', '02_green'] [4, 4]\n",
      "**46 : 55   -   ['01_purple', '04_colored'] [4, 1]\n",
      "*47 : 0   -   ['01_purple', '03_white'] [2, 1]\n",
      "**47 : 10   -   ['01_purple', '02_green'] [2, 2]\n",
      "*47 : 15   -   ['01_purple', '02_green'] [3, 2]\n",
      "**47 : 25   -   ['01_purple', '02_green'] [5, 3]\n",
      "*47 : 30   -   ['01_purple', '03_white'] [3, 1]\n",
      "*47 : 35   -   ['02_green', '01_purple'] [3, 1]\n",
      "**47 : 45   -   ['01_purple', '02_green'] [2, 2]\n",
      "*47 : 50   -   ['01_purple', '02_green'] [2, 1]\n",
      "*47 : 55   -   ['01_purple', '02_green'] [4, 3]\n",
      "*48 : 0   -   ['01_purple', '02_green'] [3, 2]\n",
      "*48 : 5   -   ['01_purple', '02_green'] [4, 3]\n",
      "*48 : 10   -   ['01_purple', '02_green'] [2, 2]\n",
      "*48 : 15   -   ['01_purple', '03_white'] [2, 1]\n",
      "*48 : 20   -   ['01_purple', '02_green'] [4, 3]\n",
      "*48 : 25   -   ['01_purple', '02_green'] [3, 3]\n",
      "*48 : 30   -   ['01_purple', '02_green'] [4, 3]\n",
      "*48 : 35   -   ['01_purple', '02_green'] [3, 1]\n",
      "*48 : 40   -   ['01_purple', '03_white'] [2, 1]\n",
      "*48 : 45   -   ['03_white', '01_purple'] [3, 2]\n",
      "*48 : 50   -   ['01_purple', '02_green'] [7, 2]\n",
      "*48 : 55   -   ['02_green', '01_purple'] [4, 3]\n",
      "*49 : 0   -   ['03_white', '02_green'] [4, 2]\n",
      "*49 : 5   -   ['03_white', '02_green'] [3, 3]\n",
      "*49 : 10   -   ['03_white', '02_green'] [5, 2]\n",
      "*49 : 15   -   ['02_green', '03_white'] [3, 3]\n",
      "*49 : 20   -   ['02_green', '03_white'] [4, 4]\n",
      "*49 : 25   -   ['03_white', '02_green'] [4, 1]\n",
      "*49 : 30   -   ['03_white', '01_purple'] [6, 1]\n",
      "*49 : 35   -   ['02_green', '03_white'] [4, 2]\n",
      "*49 : 40   -   ['02_green', '03_white'] [3, 3]\n",
      "*49 : 45   -   ['03_white', '02_green'] [6, 3]\n",
      "*49 : 50   -   ['02_green', '03_white'] [7, 5]\n",
      "*49 : 55   -   ['02_green', '03_white'] [4, 3]\n",
      "*50 : 0   -   ['01_purple', '02_green'] [2, 1]\n",
      "*50 : 5   -   ['03_white', '02_green'] [3, 2]\n",
      "*50 : 10   -   ['03_white', '01_purple'] [3, 1]\n",
      "*50 : 15   -   ['02_green', '03_white'] [2, 2]\n",
      "*50 : 20   -   ['03_white', '01_purple'] [2, 1]\n",
      "*50 : 25   -   ['03_white', '02_green'] [5, 1]\n",
      "*50 : 30   -   ['03_white', '02_green'] [3, 2]\n",
      "*50 : 35   -   ['03_white', '02_green'] [4, 1]\n",
      "*50 : 40   -   ['03_white', '02_green'] [2, 1]\n",
      "*50 : 45   -   ['03_white', '02_green'] [5, 3]\n",
      "*50 : 50   -   ['03_white', '02_green'] [4, 2]\n",
      "*50 : 55   -   ['01_purple', '02_green'] [2, 2]\n",
      "*51 : 0   -   ['02_green', '01_purple'] [5, 3]\n",
      "*51 : 5   -   ['02_green', '03_white'] [3, 2]\n",
      "*51 : 10   -   ['03_white', '02_green'] [3, 2]\n",
      "*51 : 15   -   ['03_white', '02_green'] [5, 2]\n",
      "*51 : 20   -   ['01_purple', '03_white'] [3, 2]\n",
      "*51 : 25   -   ['02_green', '03_white'] [5, 3]\n",
      "*51 : 30   -   ['02_green', '03_white'] [4, 3]\n",
      "*51 : 35   -   ['03_white', '01_purple'] [5, 3]\n",
      "*51 : 40   -   ['02_green', '03_white'] [3, 2]\n",
      "*51 : 45   -   ['02_green', '03_white'] [6, 3]\n",
      "*51 : 50   -   ['03_white', '02_green'] [3, 2]\n",
      "*51 : 55   -   ['03_white', '02_green'] [4, 2]\n",
      "*52 : 0   -   ['03_white', '02_green'] [6, 2]\n",
      "*52 : 5   -   ['03_white', '01_purple'] [5, 2]\n",
      "*52 : 10   -   ['03_white', '02_green'] [3, 3]\n",
      "*52 : 15   -   ['02_green', '01_purple'] [5, 3]\n",
      "*52 : 20   -   ['02_green', '03_white'] [4, 1]\n",
      "*52 : 25   -   ['03_white', '02_green'] [4, 3]\n",
      "\n",
      " d:\\ML\\data\\f\\video\\20200212\\CAM00003.mp4 was processed for 14.672611963748931 minutes\n"
     ]
    }
   ],
   "source": [
    "import uuid\n",
    "import time\n",
    "import cv2\n",
    "import os\n",
    "from DetectorAPI import DetectorAPI\n",
    "for video_filename in settings.videos:\n",
    "    start=time.time()\n",
    "    cap = cv2.VideoCapture(video_filename)\n",
    "    framecount = cap.get(cv2.CAP_PROP_FRAME_COUNT ) \n",
    "    frames_per_sec = cap.get(cv2.CAP_PROP_FPS)\n",
    "    durationSec = framecount / frames_per_sec\n",
    "    sec=0\n",
    "\n",
    "    odapi = DetectorAPI(path_to_ckpt=settings.model_path)\n",
    "    #durationSec = 1880\n",
    "    n=int((durationSec-sec) / settings.frameCaptureRateSec + 1)\n",
    "    all_counts=np.zeros(shape=(n, NUM_TEAMS), dtype=np.int)\n",
    "    k=0\n",
    "    while sec < durationSec:\n",
    "        cap.set(cv2.CAP_PROP_POS_MSEC,sec*1000)   \n",
    "        success, img = cap.read()\n",
    "        if success:\n",
    "            print('*', end='')\n",
    "            crop_images = []\n",
    "            boxes, scores, classes, num = odapi.processFrame(img)\n",
    "            for box, score, class_ in zip(boxes, scores, classes):\n",
    "                # Class 1 represents human\n",
    "                if class_ == 1 and score >= settings.threshold:\n",
    "                    (xA, yA, xB, yB) = box\n",
    "                    crop_image = img[xA:xB,yA:yB,:]\n",
    "                    crop_images.append((crop_image, box))\n",
    "                   \n",
    "            #TODO: think about using callback \n",
    "            save_cropped_images = False\n",
    "            if save_cropped_images:\n",
    "                i=0\n",
    "                for crop_image, box in crop_images:\n",
    "                    filepath = os.path.join(settings.out_images_folder, str(sec) +'_'+str(i)+'_'+ os.path.splitext(os.path.basename(video_filename))[0] + '_'+uuid.uuid4().hex[:6]+\".jpg\")\n",
    "                    cv2.imwrite( filepath, crop_image)\n",
    "                    i+=1\n",
    "            if any(crop_images):\n",
    "                team_ids = teamRecognizer.predict(crop_images)\n",
    "                \n",
    "                b = Counter(team_ids)\n",
    "                counts = b.most_common()\n",
    "                print(sec//60, ':', sec%60, '  -  ', [class_indices_list[x[0]] for x in counts[:2]], [_[1] for _ in counts[:2]])\n",
    "                \n",
    "                counts = np.bincount(team_ids)\n",
    "                all_counts[k][0:len(counts)] = counts\n",
    "                #print(sec, team_ids)\n",
    "                    \n",
    "        key = cv2.waitKey(1)\n",
    "        if key & 0xFF == ord('q'):\n",
    "            break\n",
    "        sec += settings.frameCaptureRateSec\n",
    "        k+=1\n",
    "    cap.release()  \n",
    "    finish=time.time()\n",
    "    print('\\n', video_filename ,'was processed for' , str((finish-start)/60.) , 'minutes')"
   ]
  },
  {
   "cell_type": "code",
   "execution_count": 237,
   "metadata": {},
   "outputs": [
    {
     "data": {
      "text/plain": [
       "(630, 4)"
      ]
     },
     "execution_count": 237,
     "metadata": {},
     "output_type": "execute_result"
    }
   ],
   "source": [
    "all_counts.shape"
   ]
  },
  {
   "cell_type": "code",
   "execution_count": 203,
   "metadata": {},
   "outputs": [
    {
     "data": {
      "text/plain": [
       "<Figure size 6480x480 with 0 Axes>"
      ]
     },
     "execution_count": 203,
     "metadata": {},
     "output_type": "execute_result"
    },
    {
     "data": {
      "text/plain": [
       "<Figure size 6480x480 with 0 Axes>"
      ]
     },
     "metadata": {},
     "output_type": "display_data"
    }
   ],
   "source": [
    "from matplotlib.pyplot import figure\n",
    "figure(num=None, figsize=(81, 6), dpi=80, facecolor='w', edgecolor='k')"
   ]
  },
  {
   "cell_type": "code",
   "execution_count": 263,
   "metadata": {},
   "outputs": [],
   "source": [
    "def movingaverage (values, window=6):\n",
    "    weights = np.repeat(1.0, window)/window\n",
    "    sma = np.convolve(values, weights, 'valid')\n",
    "    return sma"
   ]
  },
  {
   "cell_type": "code",
   "execution_count": 250,
   "metadata": {},
   "outputs": [
    {
     "data": {
      "text/plain": [
       "(619,)"
      ]
     },
     "execution_count": 250,
     "metadata": {},
     "output_type": "execute_result"
    }
   ],
   "source": [
    "ma0 = movingaverage(all_counts[:,0])\n",
    "ma1 = movingaverage(all_counts[:,1])\n",
    "ma2 = movingaverage(all_counts[:,2])\n",
    "ma3 = movingaverage(all_counts[:,3])\n",
    "ma0.shape"
   ]
  },
  {
   "cell_type": "code",
   "execution_count": 271,
   "metadata": {},
   "outputs": [
    {
     "data": {
      "text/plain": [
       "(630, 4)"
      ]
     },
     "execution_count": 271,
     "metadata": {},
     "output_type": "execute_result"
    }
   ],
   "source": [
    "all_counts.shape"
   ]
  },
  {
   "cell_type": "code",
   "execution_count": 318,
   "metadata": {},
   "outputs": [],
   "source": []
  },
  {
   "cell_type": "code",
   "execution_count": 268,
   "metadata": {},
   "outputs": [
    {
     "data": {
      "text/plain": [
       "array([0.16666667, 0.16666667, 0.16666667, 0.16666667, 0.16666667,\n",
       "       0.16666667])"
      ]
     },
     "execution_count": 268,
     "metadata": {},
     "output_type": "execute_result"
    }
   ],
   "source": [
    "\n",
    "np.repeat(1.0, window)/window"
   ]
  },
  {
   "cell_type": "code",
   "execution_count": 341,
   "metadata": {},
   "outputs": [],
   "source": [
    "window=24\n",
    "ma = np.full(shape=(630+window-1, NUM_TEAMS), fill_value=np.nan)\n",
    "for i in range(NUM_TEAMS):\n",
    "    ma[:,i] =  smooth(all_counts[:,i], window)"
   ]
  },
  {
   "cell_type": "code",
   "execution_count": 314,
   "metadata": {},
   "outputs": [
    {
     "data": {
      "text/plain": [
       "(641,)"
      ]
     },
     "execution_count": 314,
     "metadata": {},
     "output_type": "execute_result"
    }
   ],
   "source": [
    "smooth(all_counts[:,i], window).shape"
   ]
  },
  {
   "cell_type": "code",
   "execution_count": 244,
   "metadata": {},
   "outputs": [],
   "source": [
    "plt.rcParams[\"figure.figsize\"] = (25,3)"
   ]
  },
  {
   "cell_type": "code",
   "execution_count": 274,
   "metadata": {},
   "outputs": [
    {
     "data": {
      "text/plain": [
       "[<matplotlib.lines.Line2D at 0x266bd0fbef0>]"
      ]
     },
     "execution_count": 274,
     "metadata": {},
     "output_type": "execute_result"
    },
    {
     "data": {
      "image/png": "[encoded data removed]",
      "text/plain": [
       "<Figure size 1800x216 with 1 Axes>"
      ]
     },
     "metadata": {
      "needs_background": "light"
     },
     "output_type": "display_data"
    }
   ],
   "source": [
    "plt.grid(True)\n",
    "plt.ylim((0,8))\n",
    "plt.xticks(np.arange(0, 630, 12))\n",
    "plt.plot(all_counts[:,0],'o', color='purple')\n",
    "plt.plot(ma[:,0],'-')\n"
   ]
  },
  {
   "cell_type": "code",
   "execution_count": 252,
   "metadata": {},
   "outputs": [
    {
     "data": {
      "text/plain": [
       "[<matplotlib.lines.Line2D at 0x266b5038550>]"
      ]
     },
     "execution_count": 252,
     "metadata": {},
     "output_type": "execute_result"
    },
    {
     "data": {
      "image/png": "[encoded data removed]",
      "text/plain": [
       "<Figure size 1800x216 with 1 Axes>"
      ]
     },
     "metadata": {
      "needs_background": "light"
     },
     "output_type": "display_data"
    }
   ],
   "source": [
    "plt.grid(True)\n",
    "plt.ylim((0,8))\n",
    "plt.xticks(np.arange(0, 630, 12))\n",
    "plt.plot(all_counts[:,1],'o', color='green')\n",
    "plt.plot(ma[:,1],'-')"
   ]
  },
  {
   "cell_type": "code",
   "execution_count": 253,
   "metadata": {},
   "outputs": [
    {
     "data": {
      "text/plain": [
       "[<matplotlib.lines.Line2D at 0x266b572aba8>]"
      ]
     },
     "execution_count": 253,
     "metadata": {},
     "output_type": "execute_result"
    },
    {
     "data": {
      "image/png": "[encoded data removed]",
      "text/plain": [
       "<Figure size 1800x216 with 1 Axes>"
      ]
     },
     "metadata": {
      "needs_background": "light"
     },
     "output_type": "display_data"
    }
   ],
   "source": [
    "plt.grid(True)\n",
    "plt.ylim((0,8))\n",
    "plt.xticks(np.arange(0, 630, 12))\n",
    "plt.plot(ma[:,2],'-')\n",
    "plt.plot(all_counts[:,2],'o', color='gray')"
   ]
  },
  {
   "cell_type": "code",
   "execution_count": 227,
   "metadata": {},
   "outputs": [
    {
     "data": {
      "text/plain": [
       "[<matplotlib.lines.Line2D at 0x266863d44a8>]"
      ]
     },
     "execution_count": 227,
     "metadata": {},
     "output_type": "execute_result"
    },
    {
     "data": {
      "image/png": "[encoded data removed]",
      "text/plain": [
       "<Figure size 1800x216 with 1 Axes>"
      ]
     },
     "metadata": {
      "needs_background": "light"
     },
     "output_type": "display_data"
    }
   ],
   "source": [
    "plt.grid(True)\n",
    "plt.ylim((0,8))\n",
    "plt.plot(all_counts[:,3], color='black')"
   ]
  },
  {
   "cell_type": "code",
   "execution_count": 344,
   "metadata": {},
   "outputs": [
    {
     "data": {
      "image/png": "[encoded data removed]",
      "text/plain": [
       "<Figure size 1800x216 with 1 Axes>"
      ]
     },
     "metadata": {
      "needs_background": "light"
     },
     "output_type": "display_data"
    }
   ],
   "source": [
    "x = np.arange(ma.shape[0])\n",
    "\n",
    "plt.gca().set_prop_cycle(color=['purple', 'green', 'gray', 'black'])\n",
    "\n",
    "plt.plot(x, ma[:,0])\n",
    "plt.plot(x, ma[:,1])\n",
    "plt.plot(x, ma[:,2])\n",
    "plt.plot(x, ma[:,3])\n",
    "\n",
    "#plt.legend(['y = x', 'y = 2x', 'y = 3x', 'y = 4x'], loc='upper left')\n",
    "plt.xticks(np.arange(0, ma.shape[0], 12))\n",
    "plt.show()\n"
   ]
  },
  {
   "cell_type": "code",
   "execution_count": 342,
   "metadata": {},
   "outputs": [
    {
     "data": {
      "text/plain": [
       "array([[1, 2],\n",
       "       [1, 2],\n",
       "       [1, 2],\n",
       "       ...,\n",
       "       [1, 2],\n",
       "       [1, 2],\n",
       "       [1, 2]], dtype=int64)"
      ]
     },
     "execution_count": 342,
     "metadata": {},
     "output_type": "execute_result"
    }
   ],
   "source": [
    "teams = np.sort(np.argsort(ma, axis=-1)[:,-2:], axis=-1)\n",
    "teams"
   ]
  },
  {
   "cell_type": "code",
   "execution_count": 350,
   "metadata": {},
   "outputs": [
    {
     "name": "stdout",
     "output_type": "stream",
     "text": [
      "-2 : 0 0.0 []\n",
      "-2 : 50 0.8333333333333334 [1 2]\n",
      "-1 : 10 0.3333333333333333 [0 1]\n",
      "10 : 30 11.333333333333334 [1 2]\n",
      "18 : 15 7.75 [0 1]\n",
      "25 : 20 7.083333333333333 [0 2]\n",
      "30 : 40 5.333333333333333 [1 2]\n",
      "37 : 0 6.333333333333333 [0 1]\n",
      "37 : 35 0.5833333333333334 [0 2]\n",
      "42 : 55 5.333333333333333 [1 2]\n",
      "43 : 50 0.9166666666666666 [0 2]\n",
      "47 : 55 4.083333333333333 [0 1]\n",
      "48 : 0 0.08333333333333333 [0 2]\n"
     ]
    }
   ],
   "source": [
    "current =np.array([])\n",
    "k=0\n",
    "for i in range(630):\n",
    "    if not np.array_equal(current, teams[i,:]):\n",
    "        \n",
    "        if True:#i-k > 12: #one minute\n",
    "            print((i*5 -24 *5)//60,':', (i*5 -24 *5)%60, (i-k) / 12,  current)\n",
    "        current = teams[i,:]\n",
    "        k=i\n",
    "    "
   ]
  },
  {
   "cell_type": "code",
   "execution_count": 311,
   "metadata": {},
   "outputs": [],
   "source": [
    "def smooth(x,window_len=11,window='hanning'):\n",
    "    \"\"\"smooth the data using a window with requested size.\n",
    "    \n",
    "    This method is based on the convolution of a scaled window with the signal.\n",
    "    The signal is prepared by introducing reflected copies of the signal \n",
    "    (with the window size) in both ends so that transient parts are minimized\n",
    "    in the begining and end part of the output signal.\n",
    "    \n",
    "    input:\n",
    "        x: the input signal \n",
    "        window_len: the dimension of the smoothing window; should be an odd integer\n",
    "        window: the type of window from 'flat', 'hanning', 'hamming', 'bartlett', 'blackman'\n",
    "            flat window will produce a moving average smoothing.\n",
    "\n",
    "    output:\n",
    "        the smoothed signal\n",
    "        \n",
    "    example:\n",
    "\n",
    "    t=linspace(-2,2,0.1)\n",
    "    x=sin(t)+randn(len(t))*0.1\n",
    "    y=smooth(x)\n",
    "    \n",
    "    see also: \n",
    "    \n",
    "    numpy.hanning, numpy.hamming, numpy.bartlett, numpy.blackman, numpy.convolve\n",
    "    scipy.signal.lfilter\n",
    " \n",
    "    TODO: the window parameter could be the window itself if an array instead of a string\n",
    "    NOTE: length(output) != length(input), to correct this: return y[(window_len/2-1):-(window_len/2)] instead of just y.\n",
    "    \"\"\"\n",
    "\n",
    "    if x.ndim != 1:\n",
    "        raise ValueError( \"smooth only accepts 1 dimension arrays.\")\n",
    "\n",
    "    if x.size < window_len:\n",
    "        raise ValueError(\"Input vector needs to be bigger than window size.\")\n",
    "\n",
    "\n",
    "    if window_len<3:\n",
    "        return x\n",
    "\n",
    "\n",
    "    if not window in ['flat', 'hanning', 'hamming', 'bartlett', 'blackman']:\n",
    "        raise ValueError(\"Window must be  one of 'flat', 'hanning', 'hamming', 'bartlett', 'blackman'\")\n",
    "\n",
    "\n",
    "    s=np.r_[x[window_len-1:0:-1],x,x[-2:-window_len-1:-1]]\n",
    "    #print(len(s))\n",
    "    if window == 'flat': #moving average\n",
    "        w=np.ones(window_len,'d')\n",
    "    else:\n",
    "        w=eval('np.'+window+'(window_len)')\n",
    "\n",
    "    y=np.convolve(w/w.sum(),s,mode='valid')\n",
    "    return y"
   ]
  },
  {
   "cell_type": "code",
   "execution_count": 279,
   "metadata": {},
   "outputs": [
    {
     "data": {
      "text/plain": [
       "array([[       nan,        nan,        nan,        nan],\n",
       "       [       nan,        nan,        nan,        nan],\n",
       "       [       nan,        nan,        nan,        nan],\n",
       "       ...,\n",
       "       [1.5       , 2.5       , 4.        , 0.        ],\n",
       "       [1.5       , 2.83333333, 3.66666667, 0.        ],\n",
       "       [1.33333333, 3.        , 3.66666667, 0.        ]])"
      ]
     },
     "execution_count": 279,
     "metadata": {},
     "output_type": "execute_result"
    }
   ],
   "source": [
    "ma"
   ]
  },
  {
   "cell_type": "code",
   "execution_count": 299,
   "metadata": {},
   "outputs": [
    {
     "data": {
      "text/plain": [
       "array([[2, 3],\n",
       "       [2, 3],\n",
       "       [2, 3],\n",
       "       ...,\n",
       "       [1, 2],\n",
       "       [1, 2],\n",
       "       [1, 2]], dtype=int64)"
      ]
     },
     "execution_count": 299,
     "metadata": {},
     "output_type": "execute_result"
    }
   ],
   "source": []
  },
  {
   "cell_type": "code",
   "execution_count": 290,
   "metadata": {},
   "outputs": [
    {
     "data": {
      "text/plain": [
       "(630, 2)"
      ]
     },
     "execution_count": 290,
     "metadata": {},
     "output_type": "execute_result"
    }
   ],
   "source": [
    "teams.shape"
   ]
  },
  {
   "cell_type": "code",
   "execution_count": 86,
   "metadata": {},
   "outputs": [],
   "source": [
    "import pickle\n",
    "with open('crop_images.pkl', 'wb') as file:\n",
    "    pickle.dump(crop_images, file)"
   ]
  },
  {
   "cell_type": "code",
   "execution_count": 195,
   "metadata": {},
   "outputs": [],
   "source": [
    "with open('all_counts.pkl', 'wb') as file:\n",
    "    pickle.dump(all_counts, file)"
   ]
  },
  {
   "cell_type": "code",
   "execution_count": 141,
   "metadata": {},
   "outputs": [
    {
     "data": {
      "text/plain": [
       "array([1, 2, 2, 2, 2, 2, 1, 2, 0], dtype=int64)"
      ]
     },
     "execution_count": 141,
     "metadata": {},
     "output_type": "execute_result"
    }
   ],
   "source": [
    "team_ids"
   ]
  },
  {
   "cell_type": "code",
   "execution_count": 170,
   "metadata": {},
   "outputs": [],
   "source": [
    "c=np.bincount(a)"
   ]
  },
  {
   "cell_type": "code",
   "execution_count": 180,
   "metadata": {},
   "outputs": [],
   "source": [
    "counts = np.bincount(team_ids)\n"
   ]
  },
  {
   "cell_type": "code",
   "execution_count": 185,
   "metadata": {},
   "outputs": [],
   "source": [
    "n=2\n",
    "z=np.zeros(shape=(n, NUM_TEAMS), dtype=np.int)"
   ]
  },
  {
   "cell_type": "code",
   "execution_count": 182,
   "metadata": {},
   "outputs": [
    {
     "ename": "IndexError",
     "evalue": "invalid index to scalar variable.",
     "output_type": "error",
     "traceback": [
      "\u001b[1;31m---------------------------------------------------------------------------\u001b[0m",
      "\u001b[1;31mIndexError\u001b[0m                                Traceback (most recent call last)",
      "\u001b[1;32m<ipython-input-182-77d69f7bc7c6>\u001b[0m in \u001b[0;36m<module>\u001b[1;34m\u001b[0m\n\u001b[1;32m----> 1\u001b[1;33m \u001b[0mz\u001b[0m\u001b[1;33m[\u001b[0m\u001b[1;36m0\u001b[0m\u001b[1;33m]\u001b[0m\u001b[1;33m[\u001b[0m\u001b[1;36m0\u001b[0m\u001b[1;33m:\u001b[0m\u001b[0mlen\u001b[0m\u001b[1;33m(\u001b[0m\u001b[0mcounts\u001b[0m\u001b[1;33m)\u001b[0m\u001b[1;33m]\u001b[0m\u001b[1;33m\u001b[0m\u001b[1;33m\u001b[0m\u001b[0m\n\u001b[0m",
      "\u001b[1;31mIndexError\u001b[0m: invalid index to scalar variable."
     ]
    }
   ],
   "source": [
    "z[0][0:len(counts)]"
   ]
  },
  {
   "cell_type": "code",
   "execution_count": 183,
   "metadata": {},
   "outputs": [
    {
     "data": {
      "text/plain": [
       "3"
      ]
     },
     "execution_count": 183,
     "metadata": {},
     "output_type": "execute_result"
    }
   ],
   "source": [
    "len(counts)"
   ]
  },
  {
   "cell_type": "code",
   "execution_count": 186,
   "metadata": {},
   "outputs": [
    {
     "data": {
      "text/plain": [
       "array([[0, 0, 0, 0],\n",
       "       [0, 0, 0, 0]])"
      ]
     },
     "execution_count": 186,
     "metadata": {},
     "output_type": "execute_result"
    }
   ],
   "source": [
    "z"
   ]
  },
  {
   "cell_type": "code",
   "execution_count": 187,
   "metadata": {},
   "outputs": [
    {
     "data": {
      "text/plain": [
       "array([[1, 2, 6, 0],\n",
       "       [0, 0, 0, 0]])"
      ]
     },
     "execution_count": 187,
     "metadata": {},
     "output_type": "execute_result"
    }
   ],
   "source": [
    "z[0][0:len(counts)] = counts\n",
    "z"
   ]
  },
  {
   "cell_type": "code",
   "execution_count": 168,
   "metadata": {},
   "outputs": [
    {
     "data": {
      "text/plain": [
       "array([1, 2, 2, 3, 1])"
      ]
     },
     "execution_count": 168,
     "metadata": {},
     "output_type": "execute_result"
    }
   ],
   "source": [
    "a=np.array([1,2,2,3,1])\n",
    "a"
   ]
  },
  {
   "cell_type": "code",
   "execution_count": 165,
   "metadata": {},
   "outputs": [
    {
     "ename": "ValueError",
     "evalue": "cannot reshape array of size 2 into shape (4,)",
     "output_type": "error",
     "traceback": [
      "\u001b[1;31m---------------------------------------------------------------------------\u001b[0m",
      "\u001b[1;31mValueError\u001b[0m                                Traceback (most recent call last)",
      "\u001b[1;32m<ipython-input-165-ea7b864f19bc>\u001b[0m in \u001b[0;36m<module>\u001b[1;34m\u001b[0m\n\u001b[1;32m----> 1\u001b[1;33m \u001b[0ma\u001b[0m\u001b[1;33m.\u001b[0m\u001b[0mreshape\u001b[0m\u001b[1;33m(\u001b[0m\u001b[1;33m(\u001b[0m\u001b[1;36m4\u001b[0m\u001b[1;33m,\u001b[0m\u001b[1;33m)\u001b[0m\u001b[1;33m)\u001b[0m\u001b[1;33m\u001b[0m\u001b[1;33m\u001b[0m\u001b[0m\n\u001b[0m",
      "\u001b[1;31mValueError\u001b[0m: cannot reshape array of size 2 into shape (4,)"
     ]
    }
   ],
   "source": [
    "a.reshape((4,))"
   ]
  },
  {
   "cell_type": "code",
   "execution_count": 166,
   "metadata": {},
   "outputs": [
    {
     "data": {
      "text/plain": [
       "array([0, 0, 0, 0, 0])"
      ]
     },
     "execution_count": 166,
     "metadata": {},
     "output_type": "execute_result"
    }
   ],
   "source": [
    "z"
   ]
  },
  {
   "cell_type": "code",
   "execution_count": 162,
   "metadata": {},
   "outputs": [
    {
     "ename": "ValueError",
     "evalue": "could not broadcast input array from shape (3) into shape (4)",
     "output_type": "error",
     "traceback": [
      "\u001b[1;31m---------------------------------------------------------------------------\u001b[0m",
      "\u001b[1;31mValueError\u001b[0m                                Traceback (most recent call last)",
      "\u001b[1;32m<ipython-input-162-922b0a6c3d59>\u001b[0m in \u001b[0;36m<module>\u001b[1;34m\u001b[0m\n\u001b[0;32m      1\u001b[0m \u001b[0mz\u001b[0m\u001b[1;33m=\u001b[0m \u001b[0mnp\u001b[0m\u001b[1;33m.\u001b[0m\u001b[0mzeros\u001b[0m\u001b[1;33m(\u001b[0m\u001b[1;36m5\u001b[0m\u001b[1;33m,\u001b[0m \u001b[0mdtype\u001b[0m\u001b[1;33m=\u001b[0m\u001b[1;34m'int'\u001b[0m\u001b[1;33m)\u001b[0m\u001b[1;33m\u001b[0m\u001b[1;33m\u001b[0m\u001b[0m\n\u001b[1;32m----> 2\u001b[1;33m \u001b[0mz\u001b[0m\u001b[1;33m[\u001b[0m\u001b[1;36m0\u001b[0m\u001b[1;33m:\u001b[0m\u001b[1;36m4\u001b[0m\u001b[1;33m]\u001b[0m\u001b[1;33m=\u001b[0m\u001b[0mnp\u001b[0m\u001b[1;33m.\u001b[0m\u001b[0mbincount\u001b[0m\u001b[1;33m(\u001b[0m\u001b[0ma\u001b[0m\u001b[1;33m)\u001b[0m\u001b[1;33m\u001b[0m\u001b[1;33m\u001b[0m\u001b[0m\n\u001b[0m\u001b[0;32m      3\u001b[0m \u001b[0mz\u001b[0m\u001b[1;33m[\u001b[0m\u001b[1;36m0\u001b[0m\u001b[1;33m:\u001b[0m\u001b[1;36m4\u001b[0m\u001b[1;33m]\u001b[0m\u001b[1;33m\u001b[0m\u001b[1;33m\u001b[0m\u001b[0m\n",
      "\u001b[1;31mValueError\u001b[0m: could not broadcast input array from shape (3) into shape (4)"
     ]
    }
   ],
   "source": [
    "z= np.zeros(5, dtype='int')\n",
    "z[0:4]=np.bincount(a)\n",
    "z[0:4]"
   ]
  },
  {
   "cell_type": "code",
   "execution_count": 140,
   "metadata": {},
   "outputs": [
    {
     "data": {
      "text/plain": [
       "[(2, 6), (1, 2), (0, 1)]"
      ]
     },
     "execution_count": 140,
     "metadata": {},
     "output_type": "execute_result"
    }
   ],
   "source": [
    "\n",
    "from collections import Counter\n",
    "b = Counter(team_ids)\n",
    "counts = b.most_common()\n",
    "counts"
   ]
  },
  {
   "cell_type": "code",
   "execution_count": null,
   "metadata": {},
   "outputs": [],
   "source": [
    "[counts for i in range(4)]"
   ]
  },
  {
   "cell_type": "code",
   "execution_count": 132,
   "metadata": {},
   "outputs": [
    {
     "data": {
      "text/plain": [
       "([2, 1], [3, 2])"
      ]
     },
     "execution_count": 132,
     "metadata": {},
     "output_type": "execute_result"
    }
   ],
   "source": [
    "[_[0] for _ in counts[:2]], [_[1] for _ in counts[:2]]"
   ]
  },
  {
   "cell_type": "code",
   "execution_count": null,
   "metadata": {},
   "outputs": [],
   "source": []
  },
  {
   "cell_type": "code",
   "execution_count": null,
   "metadata": {},
   "outputs": [],
   "source": []
  },
  {
   "cell_type": "code",
   "execution_count": 111,
   "metadata": {},
   "outputs": [],
   "source": [
    "from TeamRecognizer import TeamRecognizer"
   ]
  },
  {
   "cell_type": "code",
   "execution_count": 107,
   "metadata": {},
   "outputs": [],
   "source": [
    "from TeamRecognizer import TeamRecognizer"
   ]
  },
  {
   "cell_type": "code",
   "execution_count": 106,
   "metadata": {},
   "outputs": [],
   "source": [
    "import sys\n",
    "del sys.modules['TeamRecognizer']"
   ]
  },
  {
   "cell_type": "code",
   "execution_count": 54,
   "metadata": {},
   "outputs": [],
   "source": [
    "MAX_THUMB_SIZE=(32,80)"
   ]
  },
  {
   "cell_type": "code",
   "execution_count": 116,
   "metadata": {},
   "outputs": [],
   "source": [
    "teamRecognizer= TeamRecognizer(MAX_THUMB_SIZE)"
   ]
  },
  {
   "cell_type": "code",
   "execution_count": 120,
   "metadata": {
    "collapsed": true,
    "jupyter": {
     "outputs_hidden": true
    }
   },
   "outputs": [
    {
     "data": {
      "text/plain": [
       "[array([[[[-1.44515261e-01,  1.47225574e-01,  1.78702399e-01,\n",
       "            1.31426126e-01,  6.34747893e-02,  5.29974364e-02,\n",
       "           -1.48498759e-01, -1.01666927e-01,  1.44753128e-01,\n",
       "           -4.02478054e-02, -8.90702829e-02,  3.63353384e-03,\n",
       "            3.74864303e-02, -4.68446687e-02, -1.01884738e-01,\n",
       "           -6.31686226e-02, -1.51013777e-01,  1.79762706e-01,\n",
       "            1.67658716e-01, -1.77949131e-01, -5.78337312e-02,\n",
       "            1.67156741e-01, -1.80201605e-01,  1.69970050e-01,\n",
       "            8.96030758e-03,  1.60756335e-01,  1.70367911e-01,\n",
       "            2.01581120e-01,  1.21314637e-02, -1.32486209e-01,\n",
       "            1.33351371e-01, -7.63281658e-02],\n",
       "          [ 3.54681686e-02, -1.30560622e-01,  4.01193835e-02,\n",
       "           -1.06745310e-01,  9.52578485e-02,  1.53673708e-01,\n",
       "            4.20607142e-02, -1.23532444e-01, -1.64253935e-01,\n",
       "            1.76896140e-01,  1.16851389e-01, -1.01339728e-01,\n",
       "            5.10294549e-02, -1.21721998e-02,  2.04884082e-01,\n",
       "            8.55887234e-02, -3.72860930e-03,  1.52286068e-01,\n",
       "            5.15743643e-02, -6.45962059e-02, -9.62807909e-02,\n",
       "            1.43836036e-01, -1.13376416e-02,  2.09633291e-01,\n",
       "           -1.23906821e-01,  6.16803346e-03,  1.34024560e-03,\n",
       "            7.85752386e-02, -9.83815044e-02,  1.20561026e-01,\n",
       "           -1.29015788e-01,  2.02668384e-02],\n",
       "          [-4.25006971e-02,  2.26431876e-01,  1.34224817e-01,\n",
       "            1.68363854e-01, -8.62078071e-02,  1.47699490e-01,\n",
       "            1.27528697e-01,  1.68812145e-02,  4.50686514e-02,\n",
       "            1.83755353e-01, -1.46866769e-01, -1.55234262e-01,\n",
       "           -4.13937755e-02, -9.81765091e-02,  1.61197290e-01,\n",
       "            4.58686724e-02, -1.34794325e-01,  1.06481194e-01,\n",
       "            7.89288580e-02,  9.12338719e-02,  1.23133354e-01,\n",
       "           -1.28864506e-02, -1.61245197e-01, -6.20304272e-02,\n",
       "            1.34028435e-01,  9.63353291e-02, -1.47905678e-01,\n",
       "           -6.23810291e-02,  1.55172899e-01,  1.88338712e-01,\n",
       "            1.34658599e-02,  1.66813448e-01]],\n",
       " \n",
       "         [[-1.87422693e-01,  3.60447653e-02, -1.21697776e-01,\n",
       "           -4.63720262e-02, -1.07271306e-01, -1.63064480e-01,\n",
       "           -1.25586227e-01, -1.72741726e-01,  2.08831504e-01,\n",
       "           -1.09623320e-01,  5.94391078e-02,  1.12474047e-01,\n",
       "            9.24656838e-02, -3.91011015e-02, -7.34347850e-02,\n",
       "           -1.57629966e-03, -8.61454681e-02,  3.23088132e-02,\n",
       "            6.63608313e-02,  1.96897134e-01, -1.52355492e-01,\n",
       "            4.62914333e-02,  2.13397384e-01, -1.20588332e-01,\n",
       "            2.85108443e-02, -2.19718784e-01,  1.88033029e-01,\n",
       "            7.40327984e-02,  8.27039257e-02,  1.46280333e-01,\n",
       "            1.43224046e-01,  1.14167184e-01],\n",
       "          [ 1.42381623e-01, -4.26646844e-02, -1.15618981e-01,\n",
       "            1.65378124e-01,  7.83211812e-02,  1.15356937e-01,\n",
       "            1.35666654e-02,  2.13705644e-01,  1.83275223e-01,\n",
       "            1.23902582e-01,  2.28451550e-01,  9.07676220e-02,\n",
       "           -2.35187426e-01, -6.48761317e-02,  1.85517311e-01,\n",
       "            2.02747777e-01, -1.55048862e-01,  1.76465824e-01,\n",
       "           -5.29994927e-02,  1.07727773e-01, -1.63387191e-02,\n",
       "            4.55969237e-02, -4.99241501e-02,  3.72898467e-02,\n",
       "           -1.19424589e-01,  1.40251756e-01, -8.17461908e-02,\n",
       "            2.19642192e-01, -1.33927345e-01, -1.43629178e-01,\n",
       "            7.62219122e-03, -7.91306272e-02],\n",
       "          [-5.43108881e-02,  3.91318090e-03,  8.82640406e-02,\n",
       "           -1.57937869e-01, -1.69693172e-01,  5.43480925e-02,\n",
       "           -1.14087366e-01, -8.90557989e-02, -1.44742295e-01,\n",
       "            1.11079246e-01, -2.46618129e-02,  1.44990981e-01,\n",
       "            1.55006737e-01, -1.76868901e-01, -1.79106042e-01,\n",
       "           -1.53706998e-01, -2.00425103e-01, -1.32453024e-01,\n",
       "           -5.34805320e-02,  1.43937677e-01, -2.65584723e-03,\n",
       "           -1.57588676e-01, -1.30551934e-01,  5.10475002e-02,\n",
       "            1.43495709e-01,  2.49151010e-02, -1.44806251e-01,\n",
       "           -1.32175401e-01, -9.73842815e-02,  1.41710415e-01,\n",
       "           -5.63508272e-02,  1.26195699e-01]]],\n",
       " \n",
       " \n",
       "        [[[-1.29973441e-01, -1.25241399e-01,  7.75720030e-02,\n",
       "            2.49280059e-03, -8.72392580e-02, -2.68095266e-03,\n",
       "            1.49155676e-01, -1.89638466e-01, -1.47738010e-01,\n",
       "            9.75397378e-02,  2.21524253e-01,  1.05316930e-01,\n",
       "            1.48568794e-01,  1.80852950e-01,  2.85350084e-02,\n",
       "            1.81842536e-01, -2.68591847e-02,  1.46858379e-01,\n",
       "           -9.36426669e-02,  8.86939615e-02, -1.30312949e-01,\n",
       "            1.73162252e-01,  1.55582830e-01, -4.22648713e-02,\n",
       "           -1.52039513e-01, -1.63402811e-01, -1.60920009e-01,\n",
       "           -2.77712215e-02,  1.46990716e-01,  1.69257671e-01,\n",
       "           -2.08235562e-01,  6.72433972e-02],\n",
       "          [ 1.77922264e-01, -1.68780878e-01, -6.86880341e-03,\n",
       "           -1.60324022e-01,  1.24583833e-01, -1.90081850e-01,\n",
       "            7.84090459e-02,  9.59566608e-02,  5.17900996e-02,\n",
       "            1.70903519e-01,  1.36168823e-01, -8.43816027e-02,\n",
       "           -2.18798727e-01, -8.53707716e-02,  1.03506751e-01,\n",
       "            9.19165984e-02,  3.71772260e-03, -1.32312581e-01,\n",
       "           -1.66530505e-01, -1.67077616e-01,  6.08044676e-02,\n",
       "           -2.28663892e-04, -1.16140231e-01, -4.18344103e-02,\n",
       "            4.09725402e-03,  1.28106698e-01,  8.23663250e-02,\n",
       "           -6.94447085e-02,  1.67024046e-01, -2.89482791e-02,\n",
       "            8.98528099e-02, -1.89187497e-01],\n",
       "          [ 1.36344418e-01,  9.89072695e-02, -9.64404419e-02,\n",
       "           -1.61012784e-01, -1.39472470e-01,  5.50498255e-02,\n",
       "           -8.78140330e-02,  1.37749568e-01, -1.53118879e-01,\n",
       "           -1.15570314e-01, -8.62100571e-02,  1.93518475e-01,\n",
       "           -4.29048650e-02, -2.68482813e-03,  1.39701903e-01,\n",
       "           -6.03670394e-03,  9.30564404e-02, -4.77228463e-02,\n",
       "            1.90883622e-01, -5.09197544e-03,  1.81733951e-01,\n",
       "            5.13709038e-02,  1.33206695e-01, -1.11665666e-01,\n",
       "           -9.19989347e-02,  5.17934188e-02,  5.45493476e-02,\n",
       "            2.57543996e-02, -3.85459773e-02,  9.14019495e-02,\n",
       "            1.63076133e-01,  2.12467209e-01]],\n",
       " \n",
       "         [[-1.48224756e-01, -9.60744694e-02,  1.40383527e-01,\n",
       "            1.21155515e-01,  8.67336392e-02,  5.74735031e-02,\n",
       "            3.67527120e-02, -1.99525446e-01,  1.03239559e-01,\n",
       "           -1.16988696e-01, -2.36834516e-03,  5.25928624e-02,\n",
       "            1.11815475e-01,  4.69516516e-02, -6.03352785e-02,\n",
       "            1.69396594e-01,  2.08568737e-01,  1.00797884e-01,\n",
       "            1.36888355e-01, -1.89496111e-02, -1.47503108e-01,\n",
       "           -1.39658958e-01,  2.13750452e-01,  1.83108672e-01,\n",
       "            1.03757106e-01, -9.13138911e-02, -6.43855706e-02,\n",
       "            4.31244820e-03, -5.26312888e-02,  1.08044952e-01,\n",
       "            1.17892645e-01,  1.74286589e-01],\n",
       "          [ 4.38737273e-02,  6.57350048e-02,  1.75466746e-01,\n",
       "           -1.40484035e-01,  1.04218282e-01, -2.10970759e-01,\n",
       "           -4.90788370e-02, -1.14489067e-02, -8.68171304e-02,\n",
       "            2.56815571e-02, -1.44628584e-01, -1.50512010e-02,\n",
       "           -1.10885762e-01,  2.15042055e-01,  2.01703221e-01,\n",
       "           -1.15624145e-01,  1.49296194e-01, -1.35422006e-01,\n",
       "           -9.59811807e-02, -2.23030269e-01,  2.13513359e-01,\n",
       "            1.18358374e-01,  2.23004907e-01, -1.05824329e-01,\n",
       "           -1.42030224e-01, -5.25054187e-02, -1.65954918e-01,\n",
       "           -1.13166369e-01, -2.13480115e-01,  2.63245031e-02,\n",
       "           -2.09794328e-01,  1.47119954e-01],\n",
       "          [ 1.34388000e-01,  1.38918892e-01, -2.01139972e-01,\n",
       "           -1.94554910e-01,  2.74684485e-02, -8.07994418e-03,\n",
       "           -1.04424484e-01,  1.98662102e-01,  1.92410070e-02,\n",
       "           -4.89250049e-02, -1.41983494e-01, -1.75103284e-02,\n",
       "            1.23849008e-02,  1.70024633e-02, -9.92339551e-02,\n",
       "            1.38613790e-01, -1.71872694e-02, -9.66689959e-02,\n",
       "            1.55709133e-01, -7.02764839e-02, -1.29571825e-01,\n",
       "           -1.20381966e-01, -1.51824027e-01, -1.00797057e-01,\n",
       "            1.97563529e-01, -1.50241911e-01, -7.97246769e-02,\n",
       "           -9.54444334e-02,  1.67991985e-02, -2.04039350e-01,\n",
       "            1.20418705e-01,  4.14770879e-02]]]], dtype=float32),\n",
       " array([ 0.0201686 ,  0.03773771, -0.02903892, -0.01234823,  0.04320268,\n",
       "         0.01327984,  0.07040848,  0.04182544, -0.00956948, -0.02498256,\n",
       "         0.00168199, -0.0373255 ,  0.03807601,  0.05233595, -0.00241128,\n",
       "        -0.03841029,  0.04906385, -0.03066259, -0.00251569,  0.0323518 ,\n",
       "         0.01996067, -0.02111085, -0.00052566,  0.01015683,  0.03321411,\n",
       "         0.01869325,  0.0288481 , -0.00151569,  0.02482532, -0.02893494,\n",
       "         0.00209441, -0.01050653], dtype=float32),\n",
       " array([[[[ 0.03384748,  0.19907555, -0.09157341, ...,  0.04364   ,\n",
       "            0.03761449,  0.08090898],\n",
       "          [-0.01058286, -0.03770857, -0.1342294 , ..., -0.16919358,\n",
       "           -0.07110295,  0.02361958],\n",
       "          [ 0.02166828, -0.10289494,  0.01990246, ..., -0.03708548,\n",
       "            0.07122758, -0.05822426],\n",
       "          ...,\n",
       "          [ 0.08145535,  0.08370835, -0.00386259, ..., -0.12383182,\n",
       "           -0.0051437 , -0.10458212],\n",
       "          [ 0.04386372, -0.10749873, -0.14603913, ..., -0.03192571,\n",
       "           -0.0483349 , -0.11837304],\n",
       "          [-0.06564355, -0.08620954, -0.07626148, ...,  0.10038058,\n",
       "           -0.05829509,  0.03448179]],\n",
       " \n",
       "         [[ 0.09616514,  0.17425326,  0.02048345, ..., -0.00603582,\n",
       "           -0.11952925, -0.00103593],\n",
       "          [-0.04883835,  0.1300207 ,  0.10844758, ...,  0.03782449,\n",
       "            0.02220071,  0.13390882],\n",
       "          [ 0.04675969,  0.06053409,  0.07199939, ...,  0.10873111,\n",
       "            0.05042956,  0.04569027],\n",
       "          ...,\n",
       "          [ 0.11192543, -0.06650886, -0.0291622 , ..., -0.04936577,\n",
       "            0.01413043, -0.1059517 ],\n",
       "          [ 0.01287549,  0.07176796,  0.04142198, ...,  0.07453091,\n",
       "           -0.11063168,  0.07130186],\n",
       "          [ 0.08963688,  0.10501592,  0.0787688 , ..., -0.10560523,\n",
       "           -0.02077208, -0.01234644]]],\n",
       " \n",
       " \n",
       "        [[[-0.04189058,  0.1825575 , -0.09047645, ..., -0.01404891,\n",
       "            0.04485202, -0.07546844],\n",
       "          [-0.0005428 ,  0.10682835, -0.11215921, ..., -0.01042079,\n",
       "            0.09044757, -0.00076571],\n",
       "          [ 0.03461834,  0.05454017, -0.11727057, ...,  0.04607872,\n",
       "            0.00208415,  0.02839544],\n",
       "          ...,\n",
       "          [ 0.01221963, -0.00305933, -0.08248846, ...,  0.04363614,\n",
       "           -0.13762452, -0.08767249],\n",
       "          [-0.00200841,  0.02813926, -0.05920711, ..., -0.13938552,\n",
       "           -0.07338232,  0.01227334],\n",
       "          [-0.1646189 , -0.10123301, -0.01187811, ...,  0.01889854,\n",
       "            0.05405511, -0.06051204]],\n",
       " \n",
       "         [[-0.02385905,  0.09591924, -0.06923662, ...,  0.11131655,\n",
       "            0.07935849, -0.11501993],\n",
       "          [ 0.10653313,  0.15937646,  0.07954305, ..., -0.05674199,\n",
       "            0.02835682,  0.02866482],\n",
       "          [-0.07088754,  0.08974053,  0.04916261, ..., -0.12416841,\n",
       "            0.04666108,  0.04347011],\n",
       "          ...,\n",
       "          [-0.15094179, -0.07833406,  0.01261853, ..., -0.03893854,\n",
       "            0.08263316,  0.09580471],\n",
       "          [ 0.05728023, -0.06239555,  0.09531987, ..., -0.16441832,\n",
       "            0.00353173, -0.05012012],\n",
       "          [-0.03832659, -0.08913001,  0.02887796, ...,  0.0174304 ,\n",
       "           -0.07159795,  0.1221818 ]]]], dtype=float32),\n",
       " array([-0.00658534,  0.03303985, -0.00935515,  0.01447697,  0.0161023 ,\n",
       "        -0.02232131, -0.02201569,  0.02735584, -0.02516018, -0.01464507,\n",
       "        -0.02351025, -0.0179954 ,  0.02656752, -0.00714606,  0.04830103,\n",
       "        -0.02040809,  0.00804226,  0.01706426,  0.01259963, -0.03640098,\n",
       "        -0.00478615, -0.01252247, -0.03014938, -0.01469056, -0.01475327,\n",
       "        -0.01164116,  0.00263464, -0.00912202,  0.01733847, -0.00493926,\n",
       "         0.00859729, -0.01239374, -0.0123438 ,  0.02108798,  0.01787084,\n",
       "         0.00801691, -0.00926667, -0.01506928,  0.01086084,  0.02374754,\n",
       "         0.05516048,  0.00511594,  0.02434373, -0.01818116, -0.02686701,\n",
       "        -0.00645627, -0.03391827,  0.01703082, -0.03048382, -0.0141595 ,\n",
       "        -0.00544012, -0.01296826,  0.03342838, -0.03552616, -0.0073056 ,\n",
       "        -0.01934631,  0.00115796,  0.02138294, -0.00630138,  0.04132241,\n",
       "        -0.0105875 , -0.03332038, -0.03139872,  0.00287848], dtype=float32),\n",
       " array([[-0.01615747, -0.00816332, -0.00832137, ..., -0.00703555,\n",
       "          0.01222205,  0.04108887],\n",
       "        [ 0.02007955, -0.02148949,  0.00134289, ..., -0.00440953,\n",
       "          0.00582818,  0.00582736],\n",
       "        [-0.00293492,  0.03712328, -0.00083976, ...,  0.07442151,\n",
       "         -0.02427379,  0.05468049],\n",
       "        ...,\n",
       "        [-0.00052308, -0.02848668,  0.01393906, ..., -0.02949628,\n",
       "         -0.00890102, -0.0130489 ],\n",
       "        [-0.00430004,  0.00777844,  0.01990644, ..., -0.01463595,\n",
       "          0.01636158,  0.01602877],\n",
       "        [-0.03413007,  0.06495272, -0.01295415, ..., -0.02606048,\n",
       "         -0.01575932,  0.06409293]], dtype=float32),\n",
       " array([-0.00247605,  0.00700543, -0.00217735, -0.00854667,  0.01837247,\n",
       "         0.00606478,  0.0135235 ,  0.017133  ,  0.00778149,  0.0148375 ,\n",
       "        -0.00044808, -0.00316187, -0.00316223, -0.00316219, -0.01015257,\n",
       "         0.0207846 , -0.02209864, -0.00316201,  0.04111584, -0.00520011,\n",
       "        -0.00316177,  0.01652725, -0.00315032,  0.00889277,  0.00658763,\n",
       "        -0.00316137,  0.00677944, -0.01076497,  0.01800646, -0.00316175,\n",
       "        -0.00316211, -0.00283883,  0.00959579, -0.01151611,  0.00885316,\n",
       "         0.00232506,  0.00839401, -0.00285632,  0.02546595, -0.0111108 ,\n",
       "        -0.00316166, -0.00013175,  0.00996307,  0.00732006,  0.01851294,\n",
       "        -0.0023854 , -0.00315773,  0.00750651, -0.0031621 ,  0.00785422,\n",
       "        -0.00325502, -0.00316216, -0.00391899,  0.01351623,  0.0141333 ,\n",
       "        -0.00387366, -0.00316224, -0.00316196, -0.00316222, -0.01827551,\n",
       "        -0.00179127, -0.0111776 , -0.00321884,  0.00230311], dtype=float32),\n",
       " array([[ 0.18185127,  0.2228201 ,  0.05213486,  0.21095468],\n",
       "        [-0.24153885,  0.22077362,  0.28231314,  0.08750615],\n",
       "        [-0.07264571,  0.20828635,  0.2748434 , -0.14908387],\n",
       "        [ 0.39288223,  0.27219042, -0.07897977, -0.06513286],\n",
       "        [-0.2900363 ,  0.05865823, -0.11538789,  0.2593792 ],\n",
       "        [-0.05607103, -0.34945568,  0.1329889 , -0.18352541],\n",
       "        [ 0.05328974,  0.1378305 , -0.24550565,  0.36358476],\n",
       "        [ 0.2824777 , -0.10144921, -0.2625765 ,  0.04043005],\n",
       "        [ 0.04164132, -0.38130513,  0.12384689, -0.18226846],\n",
       "        [-0.18639077, -0.3549161 ,  0.27426493, -0.11504554],\n",
       "        [-0.28916487,  0.0369829 , -0.00074903, -0.23707218],\n",
       "        [ 0.10398968, -0.02095056, -0.1281658 , -0.09357212],\n",
       "        [ 0.19223641, -0.19092992, -0.19851458,  0.274543  ],\n",
       "        [ 0.12104159, -0.24784976,  0.04969869,  0.17437549],\n",
       "        [-0.02309247,  0.26273233,  0.32200092, -0.31678146],\n",
       "        [-0.24945028, -0.306526  , -0.08392443, -0.17376448],\n",
       "        [ 0.13363922,  0.17620747,  0.13591172, -0.29265055],\n",
       "        [ 0.07772794, -0.2591736 , -0.280792  , -0.13454036],\n",
       "        [-0.21346267, -0.33075392, -0.07889029, -0.07575131],\n",
       "        [ 0.05564323,  0.01474059, -0.37647337, -0.25749156],\n",
       "        [ 0.13157617, -0.11627384,  0.19734927, -0.0063886 ],\n",
       "        [ 0.2164057 , -0.10701258,  0.15320675,  0.2661342 ],\n",
       "        [-0.1618531 ,  0.16933815,  0.03118766,  0.27847898],\n",
       "        [-0.3703924 ,  0.02779927, -0.30906454,  0.10951419],\n",
       "        [ 0.0187496 , -0.28218052, -0.27031803, -0.29507333],\n",
       "        [ 0.04443692, -0.19919431, -0.2538759 ,  0.22769788],\n",
       "        [-0.18570167,  0.20065726,  0.1544699 ,  0.13322   ],\n",
       "        [-0.09052233,  0.28088418,  0.18870491, -0.27222863],\n",
       "        [-0.35180604,  0.05820751,  0.16255324,  0.22090168],\n",
       "        [-0.15840644, -0.07314765, -0.10776586,  0.02614813],\n",
       "        [ 0.03168938, -0.13680355, -0.20802972, -0.01819409],\n",
       "        [-0.29320484,  0.09323864,  0.2785617 ,  0.23957038],\n",
       "        [ 0.18660724, -0.17259791, -0.19815317,  0.11096872],\n",
       "        [-0.17507376,  0.09767558,  0.06205353, -0.1218679 ],\n",
       "        [ 0.14533776, -0.13251708,  0.29780015,  0.01498586],\n",
       "        [-0.13227162,  0.2945425 , -0.16058588,  0.3135765 ],\n",
       "        [-0.28058   ,  0.17500211,  0.04375076,  0.10407942],\n",
       "        [-0.1937529 ,  0.16211085,  0.267971  ,  0.0279636 ],\n",
       "        [-0.02552446, -0.30791742,  0.13347118,  0.09220715],\n",
       "        [-0.10649449,  0.3037605 , -0.13926259, -0.14107755],\n",
       "        [ 0.1501741 ,  0.16211498,  0.23217098,  0.20438024],\n",
       "        [-0.307316  ,  0.2529065 , -0.28392878,  0.2069226 ],\n",
       "        [ 0.03692546, -0.22510844, -0.25026253,  0.12876883],\n",
       "        [ 0.07667421, -0.26506442,  0.02998535, -0.15606411],\n",
       "        [-0.20198996,  0.0287135 , -0.3308048 ,  0.21322386],\n",
       "        [ 0.21333012, -0.19796558,  0.09909182, -0.21970832],\n",
       "        [ 0.2653496 ,  0.24678546,  0.03687961, -0.07522366],\n",
       "        [ 0.3271664 , -0.05348536, -0.28488916,  0.02667467],\n",
       "        [-0.11745965, -0.0702498 , -0.15187111,  0.02950798],\n",
       "        [-0.07709643,  0.19797415, -0.1318123 ,  0.11956558],\n",
       "        [-0.02029586,  0.27899328, -0.16147888,  0.18893495],\n",
       "        [ 0.03909238, -0.15361549, -0.10416473,  0.28792417],\n",
       "        [-0.26469955, -0.00054565,  0.05410415,  0.13273008],\n",
       "        [-0.28313932,  0.24419372,  0.19069095,  0.07866886],\n",
       "        [ 0.20641102,  0.05389369, -0.25307253,  0.3191496 ],\n",
       "        [-0.08021758, -0.15954778, -0.05308029, -0.09670335],\n",
       "        [-0.27832294,  0.26819518, -0.24107747,  0.2847216 ],\n",
       "        [-0.28149313,  0.06309683,  0.07023521,  0.26353025],\n",
       "        [ 0.2864308 , -0.08166011, -0.14683889,  0.22224712],\n",
       "        [ 0.1809982 ,  0.29957697, -0.22712497, -0.38887167],\n",
       "        [-0.23225324, -0.08460364,  0.0426436 , -0.21147858],\n",
       "        [ 0.2593485 ,  0.19210255, -0.18985687, -0.35404953],\n",
       "        [ 0.05340696, -0.0796917 ,  0.12641166,  0.20047393],\n",
       "        [ 0.15622534, -0.26105624,  0.26337108, -0.3003778 ]],\n",
       "       dtype=float32),\n",
       " array([ 0.00347688, -0.06277732,  0.01323263,  0.04097497], dtype=float32)]"
      ]
     },
     "execution_count": 120,
     "metadata": {},
     "output_type": "execute_result"
    }
   ],
   "source": [
    "teamRecognizer._model.get_weights()"
   ]
  },
  {
   "cell_type": "code",
   "execution_count": 117,
   "metadata": {},
   "outputs": [],
   "source": [
    "teamRecognizer.load_model()"
   ]
  },
  {
   "cell_type": "code",
   "execution_count": 118,
   "metadata": {},
   "outputs": [
    {
     "ename": "ValueError",
     "evalue": "attempt to get argmax of an empty sequence",
     "output_type": "error",
     "traceback": [
      "\u001b[1;31m---------------------------------------------------------------------------\u001b[0m",
      "\u001b[1;31mValueError\u001b[0m                                Traceback (most recent call last)",
      "\u001b[1;32m<ipython-input-118-7f97d411c4d4>\u001b[0m in \u001b[0;36m<module>\u001b[1;34m\u001b[0m\n\u001b[1;32m----> 1\u001b[1;33m \u001b[0mteamRecognizer\u001b[0m\u001b[1;33m.\u001b[0m\u001b[0mpredict\u001b[0m\u001b[1;33m(\u001b[0m\u001b[0mcrop_images\u001b[0m\u001b[1;33m)\u001b[0m\u001b[1;33m\u001b[0m\u001b[1;33m\u001b[0m\u001b[0m\n\u001b[0m",
      "\u001b[1;32m~\\ML\\f\\TeamRecognizer.py\u001b[0m in \u001b[0;36mpredict\u001b[1;34m(self, crop_images)\u001b[0m\n\u001b[0;32m     92\u001b[0m             \u001b[0mi\u001b[0m\u001b[1;33m+=\u001b[0m\u001b[1;36m1\u001b[0m\u001b[1;33m\u001b[0m\u001b[1;33m\u001b[0m\u001b[0m\n\u001b[0;32m     93\u001b[0m \u001b[1;33m\u001b[0m\u001b[0m\n\u001b[1;32m---> 94\u001b[1;33m         \u001b[1;32mreturn\u001b[0m \u001b[0mnp\u001b[0m\u001b[1;33m.\u001b[0m\u001b[0margmax\u001b[0m\u001b[1;33m(\u001b[0m\u001b[0mself\u001b[0m\u001b[1;33m.\u001b[0m\u001b[0m_model\u001b[0m\u001b[1;33m.\u001b[0m\u001b[0mpredict\u001b[0m\u001b[1;33m(\u001b[0m\u001b[0mres\u001b[0m\u001b[1;33m)\u001b[0m\u001b[1;33m,\u001b[0m \u001b[0maxis\u001b[0m\u001b[1;33m=\u001b[0m\u001b[1;33m-\u001b[0m\u001b[1;36m1\u001b[0m\u001b[1;33m)\u001b[0m\u001b[1;33m\u001b[0m\u001b[1;33m\u001b[0m\u001b[0m\n\u001b[0m\u001b[0;32m     95\u001b[0m \u001b[1;33m\u001b[0m\u001b[0m\n\u001b[0;32m     96\u001b[0m     \u001b[1;32mdef\u001b[0m \u001b[0msave_model\u001b[0m\u001b[1;33m(\u001b[0m\u001b[0mself\u001b[0m \u001b[1;33m,\u001b[0m \u001b[0mfile_path\u001b[0m \u001b[1;33m=\u001b[0m\u001b[1;34m'team_model.h5'\u001b[0m\u001b[1;33m)\u001b[0m\u001b[1;33m:\u001b[0m\u001b[1;33m\u001b[0m\u001b[1;33m\u001b[0m\u001b[0m\n",
      "\u001b[1;32m<__array_function__ internals>\u001b[0m in \u001b[0;36margmax\u001b[1;34m(*args, **kwargs)\u001b[0m\n",
      "\u001b[1;32mD:\\miniconda3\\lib\\site-packages\\numpy\\core\\fromnumeric.py\u001b[0m in \u001b[0;36margmax\u001b[1;34m(a, axis, out)\u001b[0m\n\u001b[0;32m   1151\u001b[0m \u001b[1;33m\u001b[0m\u001b[0m\n\u001b[0;32m   1152\u001b[0m     \"\"\"\n\u001b[1;32m-> 1153\u001b[1;33m     \u001b[1;32mreturn\u001b[0m \u001b[0m_wrapfunc\u001b[0m\u001b[1;33m(\u001b[0m\u001b[0ma\u001b[0m\u001b[1;33m,\u001b[0m \u001b[1;34m'argmax'\u001b[0m\u001b[1;33m,\u001b[0m \u001b[0maxis\u001b[0m\u001b[1;33m=\u001b[0m\u001b[0maxis\u001b[0m\u001b[1;33m,\u001b[0m \u001b[0mout\u001b[0m\u001b[1;33m=\u001b[0m\u001b[0mout\u001b[0m\u001b[1;33m)\u001b[0m\u001b[1;33m\u001b[0m\u001b[1;33m\u001b[0m\u001b[0m\n\u001b[0m\u001b[0;32m   1154\u001b[0m \u001b[1;33m\u001b[0m\u001b[0m\n\u001b[0;32m   1155\u001b[0m \u001b[1;33m\u001b[0m\u001b[0m\n",
      "\u001b[1;32mD:\\miniconda3\\lib\\site-packages\\numpy\\core\\fromnumeric.py\u001b[0m in \u001b[0;36m_wrapfunc\u001b[1;34m(obj, method, *args, **kwds)\u001b[0m\n\u001b[0;32m     56\u001b[0m     \u001b[0mbound\u001b[0m \u001b[1;33m=\u001b[0m \u001b[0mgetattr\u001b[0m\u001b[1;33m(\u001b[0m\u001b[0mobj\u001b[0m\u001b[1;33m,\u001b[0m \u001b[0mmethod\u001b[0m\u001b[1;33m,\u001b[0m \u001b[1;32mNone\u001b[0m\u001b[1;33m)\u001b[0m\u001b[1;33m\u001b[0m\u001b[1;33m\u001b[0m\u001b[0m\n\u001b[0;32m     57\u001b[0m     \u001b[1;32mif\u001b[0m \u001b[0mbound\u001b[0m \u001b[1;32mis\u001b[0m \u001b[1;32mNone\u001b[0m\u001b[1;33m:\u001b[0m\u001b[1;33m\u001b[0m\u001b[1;33m\u001b[0m\u001b[0m\n\u001b[1;32m---> 58\u001b[1;33m         \u001b[1;32mreturn\u001b[0m \u001b[0m_wrapit\u001b[0m\u001b[1;33m(\u001b[0m\u001b[0mobj\u001b[0m\u001b[1;33m,\u001b[0m \u001b[0mmethod\u001b[0m\u001b[1;33m,\u001b[0m \u001b[1;33m*\u001b[0m\u001b[0margs\u001b[0m\u001b[1;33m,\u001b[0m \u001b[1;33m**\u001b[0m\u001b[0mkwds\u001b[0m\u001b[1;33m)\u001b[0m\u001b[1;33m\u001b[0m\u001b[1;33m\u001b[0m\u001b[0m\n\u001b[0m\u001b[0;32m     59\u001b[0m \u001b[1;33m\u001b[0m\u001b[0m\n\u001b[0;32m     60\u001b[0m     \u001b[1;32mtry\u001b[0m\u001b[1;33m:\u001b[0m\u001b[1;33m\u001b[0m\u001b[1;33m\u001b[0m\u001b[0m\n",
      "\u001b[1;32mD:\\miniconda3\\lib\\site-packages\\numpy\\core\\fromnumeric.py\u001b[0m in \u001b[0;36m_wrapit\u001b[1;34m(obj, method, *args, **kwds)\u001b[0m\n\u001b[0;32m     45\u001b[0m     \u001b[1;32mexcept\u001b[0m \u001b[0mAttributeError\u001b[0m\u001b[1;33m:\u001b[0m\u001b[1;33m\u001b[0m\u001b[1;33m\u001b[0m\u001b[0m\n\u001b[0;32m     46\u001b[0m         \u001b[0mwrap\u001b[0m \u001b[1;33m=\u001b[0m \u001b[1;32mNone\u001b[0m\u001b[1;33m\u001b[0m\u001b[1;33m\u001b[0m\u001b[0m\n\u001b[1;32m---> 47\u001b[1;33m     \u001b[0mresult\u001b[0m \u001b[1;33m=\u001b[0m \u001b[0mgetattr\u001b[0m\u001b[1;33m(\u001b[0m\u001b[0masarray\u001b[0m\u001b[1;33m(\u001b[0m\u001b[0mobj\u001b[0m\u001b[1;33m)\u001b[0m\u001b[1;33m,\u001b[0m \u001b[0mmethod\u001b[0m\u001b[1;33m)\u001b[0m\u001b[1;33m(\u001b[0m\u001b[1;33m*\u001b[0m\u001b[0margs\u001b[0m\u001b[1;33m,\u001b[0m \u001b[1;33m**\u001b[0m\u001b[0mkwds\u001b[0m\u001b[1;33m)\u001b[0m\u001b[1;33m\u001b[0m\u001b[1;33m\u001b[0m\u001b[0m\n\u001b[0m\u001b[0;32m     48\u001b[0m     \u001b[1;32mif\u001b[0m \u001b[0mwrap\u001b[0m\u001b[1;33m:\u001b[0m\u001b[1;33m\u001b[0m\u001b[1;33m\u001b[0m\u001b[0m\n\u001b[0;32m     49\u001b[0m         \u001b[1;32mif\u001b[0m \u001b[1;32mnot\u001b[0m \u001b[0misinstance\u001b[0m\u001b[1;33m(\u001b[0m\u001b[0mresult\u001b[0m\u001b[1;33m,\u001b[0m \u001b[0mmu\u001b[0m\u001b[1;33m.\u001b[0m\u001b[0mndarray\u001b[0m\u001b[1;33m)\u001b[0m\u001b[1;33m:\u001b[0m\u001b[1;33m\u001b[0m\u001b[1;33m\u001b[0m\u001b[0m\n",
      "\u001b[1;31mValueError\u001b[0m: attempt to get argmax of an empty sequence"
     ]
    }
   ],
   "source": [
    "teamRecognizer.predict(crop_images)"
   ]
  },
  {
   "cell_type": "code",
   "execution_count": 102,
   "metadata": {},
   "outputs": [],
   "source": [
    "from ImageStandardizer import ImageStandardizer"
   ]
  },
  {
   "cell_type": "code",
   "execution_count": 103,
   "metadata": {},
   "outputs": [],
   "source": [
    "imageStandardizer=ImageStandardizer(MAX_THUMB_SIZE)"
   ]
  },
  {
   "cell_type": "code",
   "execution_count": 119,
   "metadata": {},
   "outputs": [
    {
     "ename": "ValueError",
     "evalue": "attempt to get argmax of an empty sequence",
     "output_type": "error",
     "traceback": [
      "\u001b[1;31m---------------------------------------------------------------------------\u001b[0m",
      "\u001b[1;31mValueError\u001b[0m                                Traceback (most recent call last)",
      "\u001b[1;32m<ipython-input-119-ffab3eff795b>\u001b[0m in \u001b[0;36m<module>\u001b[1;34m\u001b[0m\n\u001b[0;32m      8\u001b[0m     \u001b[0mres\u001b[0m\u001b[1;33m[\u001b[0m\u001b[0mi\u001b[0m\u001b[1;33m]\u001b[0m \u001b[1;33m=\u001b[0m \u001b[0mimageStandardizer\u001b[0m\u001b[1;33m.\u001b[0m\u001b[0mresize_array\u001b[0m\u001b[1;33m(\u001b[0m\u001b[0mcrop_image\u001b[0m\u001b[1;33m)\u001b[0m\u001b[1;33m/\u001b[0m\u001b[1;36m255\u001b[0m\u001b[1;33m\u001b[0m\u001b[1;33m\u001b[0m\u001b[0m\n\u001b[0;32m      9\u001b[0m     \u001b[0mi\u001b[0m\u001b[1;33m+=\u001b[0m\u001b[1;36m1\u001b[0m\u001b[1;33m\u001b[0m\u001b[1;33m\u001b[0m\u001b[0m\n\u001b[1;32m---> 10\u001b[1;33m \u001b[0mnp\u001b[0m\u001b[1;33m.\u001b[0m\u001b[0margmax\u001b[0m\u001b[1;33m(\u001b[0m\u001b[0mcnn\u001b[0m\u001b[1;33m.\u001b[0m\u001b[0mpredict\u001b[0m\u001b[1;33m(\u001b[0m\u001b[0mres\u001b[0m\u001b[1;33m)\u001b[0m\u001b[1;33m,\u001b[0m \u001b[0maxis\u001b[0m\u001b[1;33m=\u001b[0m\u001b[1;33m-\u001b[0m\u001b[1;36m1\u001b[0m\u001b[1;33m)\u001b[0m\u001b[1;33m\u001b[0m\u001b[1;33m\u001b[0m\u001b[0m\n\u001b[0m",
      "\u001b[1;32m<__array_function__ internals>\u001b[0m in \u001b[0;36margmax\u001b[1;34m(*args, **kwargs)\u001b[0m\n",
      "\u001b[1;32mD:\\miniconda3\\lib\\site-packages\\numpy\\core\\fromnumeric.py\u001b[0m in \u001b[0;36margmax\u001b[1;34m(a, axis, out)\u001b[0m\n\u001b[0;32m   1151\u001b[0m \u001b[1;33m\u001b[0m\u001b[0m\n\u001b[0;32m   1152\u001b[0m     \"\"\"\n\u001b[1;32m-> 1153\u001b[1;33m     \u001b[1;32mreturn\u001b[0m \u001b[0m_wrapfunc\u001b[0m\u001b[1;33m(\u001b[0m\u001b[0ma\u001b[0m\u001b[1;33m,\u001b[0m \u001b[1;34m'argmax'\u001b[0m\u001b[1;33m,\u001b[0m \u001b[0maxis\u001b[0m\u001b[1;33m=\u001b[0m\u001b[0maxis\u001b[0m\u001b[1;33m,\u001b[0m \u001b[0mout\u001b[0m\u001b[1;33m=\u001b[0m\u001b[0mout\u001b[0m\u001b[1;33m)\u001b[0m\u001b[1;33m\u001b[0m\u001b[1;33m\u001b[0m\u001b[0m\n\u001b[0m\u001b[0;32m   1154\u001b[0m \u001b[1;33m\u001b[0m\u001b[0m\n\u001b[0;32m   1155\u001b[0m \u001b[1;33m\u001b[0m\u001b[0m\n",
      "\u001b[1;32mD:\\miniconda3\\lib\\site-packages\\numpy\\core\\fromnumeric.py\u001b[0m in \u001b[0;36m_wrapfunc\u001b[1;34m(obj, method, *args, **kwds)\u001b[0m\n\u001b[0;32m     56\u001b[0m     \u001b[0mbound\u001b[0m \u001b[1;33m=\u001b[0m \u001b[0mgetattr\u001b[0m\u001b[1;33m(\u001b[0m\u001b[0mobj\u001b[0m\u001b[1;33m,\u001b[0m \u001b[0mmethod\u001b[0m\u001b[1;33m,\u001b[0m \u001b[1;32mNone\u001b[0m\u001b[1;33m)\u001b[0m\u001b[1;33m\u001b[0m\u001b[1;33m\u001b[0m\u001b[0m\n\u001b[0;32m     57\u001b[0m     \u001b[1;32mif\u001b[0m \u001b[0mbound\u001b[0m \u001b[1;32mis\u001b[0m \u001b[1;32mNone\u001b[0m\u001b[1;33m:\u001b[0m\u001b[1;33m\u001b[0m\u001b[1;33m\u001b[0m\u001b[0m\n\u001b[1;32m---> 58\u001b[1;33m         \u001b[1;32mreturn\u001b[0m \u001b[0m_wrapit\u001b[0m\u001b[1;33m(\u001b[0m\u001b[0mobj\u001b[0m\u001b[1;33m,\u001b[0m \u001b[0mmethod\u001b[0m\u001b[1;33m,\u001b[0m \u001b[1;33m*\u001b[0m\u001b[0margs\u001b[0m\u001b[1;33m,\u001b[0m \u001b[1;33m**\u001b[0m\u001b[0mkwds\u001b[0m\u001b[1;33m)\u001b[0m\u001b[1;33m\u001b[0m\u001b[1;33m\u001b[0m\u001b[0m\n\u001b[0m\u001b[0;32m     59\u001b[0m \u001b[1;33m\u001b[0m\u001b[0m\n\u001b[0;32m     60\u001b[0m     \u001b[1;32mtry\u001b[0m\u001b[1;33m:\u001b[0m\u001b[1;33m\u001b[0m\u001b[1;33m\u001b[0m\u001b[0m\n",
      "\u001b[1;32mD:\\miniconda3\\lib\\site-packages\\numpy\\core\\fromnumeric.py\u001b[0m in \u001b[0;36m_wrapit\u001b[1;34m(obj, method, *args, **kwds)\u001b[0m\n\u001b[0;32m     45\u001b[0m     \u001b[1;32mexcept\u001b[0m \u001b[0mAttributeError\u001b[0m\u001b[1;33m:\u001b[0m\u001b[1;33m\u001b[0m\u001b[1;33m\u001b[0m\u001b[0m\n\u001b[0;32m     46\u001b[0m         \u001b[0mwrap\u001b[0m \u001b[1;33m=\u001b[0m \u001b[1;32mNone\u001b[0m\u001b[1;33m\u001b[0m\u001b[1;33m\u001b[0m\u001b[0m\n\u001b[1;32m---> 47\u001b[1;33m     \u001b[0mresult\u001b[0m \u001b[1;33m=\u001b[0m \u001b[0mgetattr\u001b[0m\u001b[1;33m(\u001b[0m\u001b[0masarray\u001b[0m\u001b[1;33m(\u001b[0m\u001b[0mobj\u001b[0m\u001b[1;33m)\u001b[0m\u001b[1;33m,\u001b[0m \u001b[0mmethod\u001b[0m\u001b[1;33m)\u001b[0m\u001b[1;33m(\u001b[0m\u001b[1;33m*\u001b[0m\u001b[0margs\u001b[0m\u001b[1;33m,\u001b[0m \u001b[1;33m**\u001b[0m\u001b[0mkwds\u001b[0m\u001b[1;33m)\u001b[0m\u001b[1;33m\u001b[0m\u001b[1;33m\u001b[0m\u001b[0m\n\u001b[0m\u001b[0;32m     48\u001b[0m     \u001b[1;32mif\u001b[0m \u001b[0mwrap\u001b[0m\u001b[1;33m:\u001b[0m\u001b[1;33m\u001b[0m\u001b[1;33m\u001b[0m\u001b[0m\n\u001b[0;32m     49\u001b[0m         \u001b[1;32mif\u001b[0m \u001b[1;32mnot\u001b[0m \u001b[0misinstance\u001b[0m\u001b[1;33m(\u001b[0m\u001b[0mresult\u001b[0m\u001b[1;33m,\u001b[0m \u001b[0mmu\u001b[0m\u001b[1;33m.\u001b[0m\u001b[0mndarray\u001b[0m\u001b[1;33m)\u001b[0m\u001b[1;33m:\u001b[0m\u001b[1;33m\u001b[0m\u001b[1;33m\u001b[0m\u001b[0m\n",
      "\u001b[1;31mValueError\u001b[0m: attempt to get argmax of an empty sequence"
     ]
    }
   ],
   "source": [
    "cnn= teamRecognizer._model\n",
    "HW_SIZE=(80,32)\n",
    "shape = (len(crop_images),) + HW_SIZE +(3,)\n",
    "shape\n",
    "res = np.empty(shape)\n",
    "i=0\n",
    "for crop_image, box in crop_images:\n",
    "    res[i] = imageStandardizer.resize_array(crop_image)/255\n",
    "    i+=1\n",
    "np.argmax(cnn.predict(res), axis=-1)    "
   ]
  },
  {
   "cell_type": "code",
   "execution_count": 91,
   "metadata": {},
   "outputs": [],
   "source": [
    "teamRecognizer._model.compile(optimizer='rmsprop', loss='binary_crossentropy')"
   ]
  }
 ],
 "metadata": {
  "kernelspec": {
   "display_name": "Python 3",
   "language": "python",
   "name": "python3"
  },
  "language_info": {
   "codemirror_mode": {
    "name": "ipython",
    "version": 3
   },
   "file_extension": ".py",
   "mimetype": "text/x-python",
   "name": "python",
   "nbconvert_exporter": "python",
   "pygments_lexer": "ipython3",
   "version": "3.7.3"
  }
 },
 "nbformat": 4,
 "nbformat_minor": 4
}
